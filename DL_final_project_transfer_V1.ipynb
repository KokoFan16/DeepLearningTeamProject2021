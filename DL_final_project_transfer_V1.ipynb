{
  "nbformat": 4,
  "nbformat_minor": 0,
  "metadata": {
    "colab": {
      "name": "DL_final_project_transfer_V1.ipynb",
      "provenance": [],
      "collapsed_sections": [],
      "toc_visible": true
    },
    "kernelspec": {
      "name": "python3",
      "display_name": "Python 3"
    },
    "language_info": {
      "name": "python"
    },
    "accelerator": "GPU"
  },
  "cells": [
    {
      "cell_type": "markdown",
      "metadata": {
        "id": "UmWMQMxWePOQ"
      },
      "source": [
        "# Import liabraries"
      ]
    },
    {
      "cell_type": "code",
      "metadata": {
        "id": "8csTcXSaSjKG"
      },
      "source": [
        "import matplotlib.pyplot as plt\n",
        "import numpy as np\n",
        "import os\n",
        "import random\n",
        "import tensorflow as tf\n",
        "from pathlib import Path\n",
        "from tensorflow.keras import applications\n",
        "from tensorflow.keras import layers\n",
        "from tensorflow.keras import losses\n",
        "from tensorflow.keras import optimizers\n",
        "from tensorflow.keras import metrics\n",
        "from tensorflow.keras import Model\n",
        "from tensorflow.keras.applications import resnet"
      ],
      "execution_count": 2,
      "outputs": []
    },
    {
      "cell_type": "markdown",
      "metadata": {
        "id": "r9fSHMSnZm11"
      },
      "source": [
        "# Dowload and Explore the Dataset"
      ]
    },
    {
      "cell_type": "code",
      "metadata": {
        "colab": {
          "base_uri": "https://localhost:8080/"
        },
        "id": "JwpmyZR-TiwE",
        "outputId": "dd90288c-fe23-45d9-dd38-70a618954853"
      },
      "source": [
        "# Dowload the dataset\n",
        "!wget http://vision.cs.utexas.edu/projects/finegrained/utzap50k/ut-zap50k-images.zip"
      ],
      "execution_count": 27,
      "outputs": [
        {
          "output_type": "stream",
          "text": [
            "--2021-04-10 18:35:36--  http://vision.cs.utexas.edu/projects/finegrained/utzap50k/ut-zap50k-images.zip\n",
            "Resolving vision.cs.utexas.edu (vision.cs.utexas.edu)... 128.83.120.116\n",
            "Connecting to vision.cs.utexas.edu (vision.cs.utexas.edu)|128.83.120.116|:80... connected.\n",
            "HTTP request sent, awaiting response... 200 OK\n",
            "Length: 305323328 (291M) [application/zip]\n",
            "Saving to: ‘ut-zap50k-images.zip’\n",
            "\n",
            "ut-zap50k-images.zi 100%[===================>] 291.18M  73.4MB/s    in 4.2s    \n",
            "\n",
            "2021-04-10 18:35:41 (69.2 MB/s) - ‘ut-zap50k-images.zip’ saved [305323328/305323328]\n",
            "\n"
          ],
          "name": "stdout"
        }
      ]
    },
    {
      "cell_type": "code",
      "metadata": {
        "id": "eyGCRSEPTsh8"
      },
      "source": [
        "!unzip ut-zap50k-images.zip"
      ],
      "execution_count": null,
      "outputs": []
    },
    {
      "cell_type": "code",
      "metadata": {
        "id": "IdACsd8mTwkL"
      },
      "source": [
        "import os\n",
        "import shutil\n",
        "\n",
        "#from google.colab import drive\n",
        "#drive.mount('content/')\n",
        "\n",
        "os.getcwd()\n",
        "# root = '/content/ut-zap50k-images'\n",
        "root = 'ut-zap50k-images'\n",
        "subfolder_name = []\n",
        "def makedir(dirname):\n",
        "  foldernames = os.listdir(dirname)\n",
        "  for subfolder in foldernames:\n",
        "    subfolder_name.append(subfolder)\n",
        "    if not os.path.exists(subfolder):\n",
        "      os.makedirs(subfolder)\n",
        "\n",
        "def searchdir(dirname):\n",
        "  filenames = os.listdir(dirname)\n",
        "\n",
        "  for filename in filenames:\n",
        "    full_filename = os.path.join(dirname, filename)\n",
        "    base_folder_name = full_filename.split('/')[1]\n",
        "    # print(full_filename.split('/')[1])\n",
        "\n",
        "    if os.path.isdir(full_filename):\n",
        "      searchdir(full_filename)\n",
        "    else:\n",
        "      shutil.move(full_filename, base_folder_name + '/' + os.path.basename(full_filename))\n",
        "\n",
        "makedir(root)\n",
        "searchdir(root)"
      ],
      "execution_count": 29,
      "outputs": []
    },
    {
      "cell_type": "code",
      "metadata": {
        "id": "-mgml8_Xe-tZ"
      },
      "source": [
        "!mkdir data"
      ],
      "execution_count": 30,
      "outputs": []
    },
    {
      "cell_type": "code",
      "metadata": {
        "id": "bmkzR10Qeu9K"
      },
      "source": [
        "!mv Boots Sandals Shoes Slippers data"
      ],
      "execution_count": 31,
      "outputs": []
    },
    {
      "cell_type": "code",
      "metadata": {
        "id": "GQnARn1ngdz0"
      },
      "source": [
        "# A folder to hold a subset for testing models\n",
        "!mkdir data2"
      ],
      "execution_count": 32,
      "outputs": []
    },
    {
      "cell_type": "code",
      "metadata": {
        "id": "u-2g7Uo9hswF"
      },
      "source": [
        "!mkdir data2/Boots data2/Sandals data2/Shoes data2/Slippers"
      ],
      "execution_count": 33,
      "outputs": []
    },
    {
      "cell_type": "code",
      "metadata": {
        "id": "CoORcAEZgd7L",
        "colab": {
          "base_uri": "https://localhost:8080/"
        },
        "outputId": "7446d9fc-a234-4dc4-fdfe-87ca0999b58c"
      },
      "source": [
        "# https://unix.stackexchange.com/questions/217712/randomly-copy-certain-amount-of-certain-file-type-from-one-directory-into-anothe\n",
        "# copy a subset of the dataset\n",
        "\n",
        "!find data/Boots -type f -name \"*.jpg\" -print0 | xargs -0 shuf -e -n 8 -z | xargs -0 cp -vt data2/Boots"
      ],
      "execution_count": 34,
      "outputs": [
        {
          "output_type": "stream",
          "text": [
            "'data/Boots/8019987.6.jpg' -> 'data2/Boots/8019987.6.jpg'\n",
            "'data/Boots/8020099.3.jpg' -> 'data2/Boots/8020099.3.jpg'\n",
            "'data/Boots/8055310.3.jpg' -> 'data2/Boots/8055310.3.jpg'\n",
            "'data/Boots/8113243.3.jpg' -> 'data2/Boots/8113243.3.jpg'\n",
            "'data/Boots/7969026.768.jpg' -> 'data2/Boots/7969026.768.jpg'\n",
            "'data/Boots/8019844.84.jpg' -> 'data2/Boots/8019844.84.jpg'\n",
            "'data/Boots/7191011.3.jpg' -> 'data2/Boots/7191011.3.jpg'\n",
            "'data/Boots/8050347.81304.jpg' -> 'data2/Boots/8050347.81304.jpg'\n",
            "'data/Boots/7976528.19.jpg' -> 'data2/Boots/7976528.19.jpg'\n",
            "'data/Boots/8003538.352769.jpg' -> 'data2/Boots/8003538.352769.jpg'\n",
            "'data/Boots/7679415.568.jpg' -> 'data2/Boots/7679415.568.jpg'\n",
            "'data/Boots/8009539.366241.jpg' -> 'data2/Boots/8009539.366241.jpg'\n",
            "'data/Boots/7606526.196882.jpg' -> 'data2/Boots/7606526.196882.jpg'\n",
            "'data/Boots/7342759.73932.jpg' -> 'data2/Boots/7342759.73932.jpg'\n",
            "'data/Boots/8037585.106.jpg' -> 'data2/Boots/8037585.106.jpg'\n",
            "'data/Boots/7847744.3.jpg' -> 'data2/Boots/7847744.3.jpg'\n",
            "'data/Boots/7138899.3091.jpg' -> 'data2/Boots/7138899.3091.jpg'\n",
            "'data/Boots/8047865.20.jpg' -> 'data2/Boots/8047865.20.jpg'\n",
            "'data/Boots/7220968.120829.jpg' -> 'data2/Boots/7220968.120829.jpg'\n",
            "'data/Boots/7477031.3.jpg' -> 'data2/Boots/7477031.3.jpg'\n",
            "'data/Boots/7981490.357636.jpg' -> 'data2/Boots/7981490.357636.jpg'\n",
            "'data/Boots/8020585.423.jpg' -> 'data2/Boots/8020585.423.jpg'\n",
            "'data/Boots/8022047.9.jpg' -> 'data2/Boots/8022047.9.jpg'\n",
            "'data/Boots/7345448.113578.jpg' -> 'data2/Boots/7345448.113578.jpg'\n"
          ],
          "name": "stdout"
        }
      ]
    },
    {
      "cell_type": "code",
      "metadata": {
        "id": "aZzRpZehiUv8"
      },
      "source": [
        "!find data/Sandals -type f -name \"*.jpg\" -print0 | xargs -0 shuf -e -n 8 -z | xargs -0 cp -t data2/Sandals"
      ],
      "execution_count": 35,
      "outputs": []
    },
    {
      "cell_type": "code",
      "metadata": {
        "id": "V9b_IXm2inst"
      },
      "source": [
        "!find data/Shoes -type f -name \"*.jpg\" -print0 | xargs -0 shuf -e -n 8 -z | xargs -0 cp -t data2/Shoes"
      ],
      "execution_count": 36,
      "outputs": []
    },
    {
      "cell_type": "code",
      "metadata": {
        "id": "UuY8AayyinwM"
      },
      "source": [
        "!find data/Slippers -type f -name \"*.jpg\" -print0 | xargs -0 shuf -e -n 8 -z | xargs -0 cp -t data2/Slippers"
      ],
      "execution_count": 37,
      "outputs": []
    },
    {
      "cell_type": "code",
      "metadata": {
        "colab": {
          "base_uri": "https://localhost:8080/"
        },
        "id": "xN34H7cQS7uZ",
        "outputId": "61b9a9a5-c767-4e52-de90-012fef36052e"
      },
      "source": [
        "import pathlib\n",
        "data_dir = pathlib.Path(\"data\")\n",
        "boots_count = len(list(data_dir.glob('Boots/*.jpg')))\n",
        "sandals_count = len(list(data_dir.glob('Sandals/*.jpg')))\n",
        "shoes_count = len(list(data_dir.glob('Shoes/*.jpg')))\n",
        "slippers_count = len(list(data_dir.glob('Slippers/*.jpg')))\n",
        "print(boots_count, sandals_count, shoes_count, slippers_count)\n",
        "print(f\"Total = {boots_count + sandals_count + shoes_count + slippers_count}\")"
      ],
      "execution_count": 40,
      "outputs": [
        {
          "output_type": "stream",
          "text": [
            "12832 5741 30169 1283\n",
            "Total = 50025\n"
          ],
          "name": "stdout"
        }
      ]
    },
    {
      "cell_type": "code",
      "metadata": {
        "colab": {
          "base_uri": "https://localhost:8080/",
          "height": 119
        },
        "id": "-73Jeu73UffD",
        "outputId": "bdbd2bd3-29d4-4e85-c830-36e330651c60"
      },
      "source": [
        "import PIL\n",
        "import PIL.Image\n",
        "\n",
        "boots = list(data_dir.glob('Boots/*.jpg'))\n",
        "sandals = list(data_dir.glob('Sandals/*.jpg'))\n",
        "shoes = list(data_dir.glob('Shoes/*.jpg'))\n",
        "slippers = list(data_dir.glob('Slippers/*.jpg'))\n",
        "\n",
        "PIL.Image.open(str(slippers[0]))"
      ],
      "execution_count": 41,
      "outputs": [
        {
          "output_type": "execute_result",
          "data": {
            "image/png": "[encoded data removed]",
            "text/plain": [
              "<PIL.JpegImagePlugin.JpegImageFile image mode=RGB size=136x102 at 0x7F60E29AB3D0>"
            ]
          },
          "metadata": {
            "tags": []
          },
          "execution_count": 41
        }
      ]
    },
    {
      "cell_type": "code",
      "metadata": {
        "colab": {
          "base_uri": "https://localhost:8080/"
        },
        "id": "vdc6A2VLVDJY",
        "outputId": "7c81e0fa-f0f0-4099-c680-395411d08d46"
      },
      "source": [
        "sandals[0], slippers[1], "
      ],
      "execution_count": 42,
      "outputs": [
        {
          "output_type": "execute_result",
          "data": {
            "text/plain": [
              "(PosixPath('data/Sandals/7293837.261626.jpg'),\n",
              " PosixPath('data/Slippers/7486138.359.jpg'))"
            ]
          },
          "metadata": {
            "tags": []
          },
          "execution_count": 42
        }
      ]
    },
    {
      "cell_type": "code",
      "metadata": {
        "id": "MizKtJYFHLbD"
      },
      "source": [
        "# double check the dimention of each image\n",
        "import cv2\n",
        "boots_shapes = []\n",
        "sandals_shapes = []\n",
        "shoes_shapes = []\n",
        "slippers_shapes = []\n",
        "for i in range(boots_count):\n",
        "  im1 = cv2.imread(str(boots[i]))\n",
        "  boots_shapes.append(im1.shape)\n",
        "\n",
        "for i in range(sandals_count):\n",
        "  im2 = cv2.imread(str(sandals[i]))\n",
        "  sandals_shapes.append(im2.shape)\n",
        "\n",
        "for i in range(shoes_count):\n",
        "  im3 = cv2.imread(str(shoes[i]))\n",
        "  shoes_shapes.append(im3.shape)\n",
        "\n",
        "for i in range(slippers_count):\n",
        "  im4 = cv2.imread(str(slippers[i]))\n",
        "  slippers_shapes.append(im4.shape)\n",
        "\n",
        "  # print(type(im))  # <class 'numpy.ndarray'>\n"
      ],
      "execution_count": 43,
      "outputs": []
    },
    {
      "cell_type": "code",
      "metadata": {
        "colab": {
          "base_uri": "https://localhost:8080/"
        },
        "id": "yHHqDeyVXQvL",
        "outputId": "557e4bfc-128e-4e4e-a586-58cd06c8373b"
      },
      "source": [
        "np.mean(boots_shapes, axis=0), np.mean(sandals_shapes, axis=0), np.mean(shoes_shapes, axis=0), np.mean(slippers_shapes, axis=0)"
      ],
      "execution_count": 44,
      "outputs": [
        {
          "output_type": "execute_result",
          "data": {
            "text/plain": [
              "(array([102., 136.,   3.]),\n",
              " array([102.        , 135.99965163,   3.        ]),\n",
              " array([102., 136.,   3.]),\n",
              " array([102., 136.,   3.]))"
            ]
          },
          "metadata": {
            "tags": []
          },
          "execution_count": 44
        }
      ]
    },
    {
      "cell_type": "code",
      "metadata": {
        "colab": {
          "base_uri": "https://localhost:8080/"
        },
        "id": "EWDDySxqWOkL",
        "outputId": "5e1f6be0-cdf3-4e33-b649-1bceed358bc9"
      },
      "source": [
        "for i in range(sandals_count):\n",
        "  if sandals_shapes[i][1]< 136:\n",
        "    print(sandals_shapes[i])\n"
      ],
      "execution_count": 45,
      "outputs": [
        {
          "output_type": "stream",
          "text": [
            "(102, 135, 3)\n",
            "(102, 135, 3)\n"
          ],
          "name": "stdout"
        }
      ]
    },
    {
      "cell_type": "code",
      "metadata": {
        "colab": {
          "base_uri": "https://localhost:8080/"
        },
        "id": "Cg9Y7s-cZL8j",
        "outputId": "2cc4c4d2-d0dc-4ae7-c48d-9763f043e626"
      },
      "source": [
        "sandals_shapes[1][1]"
      ],
      "execution_count": null,
      "outputs": [
        {
          "output_type": "execute_result",
          "data": {
            "text/plain": [
              "136"
            ]
          },
          "metadata": {
            "tags": []
          },
          "execution_count": 43
        }
      ]
    },
    {
      "cell_type": "code",
      "metadata": {
        "id": "br7E0fjdSZlt"
      },
      "source": [
        ""
      ],
      "execution_count": null,
      "outputs": []
    },
    {
      "cell_type": "markdown",
      "metadata": {
        "id": "XKB9n0rheRlK"
      },
      "source": [
        "# Image Preprocessing "
      ]
    },
    {
      "cell_type": "markdown",
      "metadata": {
        "id": "A6X1HD1NQtWa"
      },
      "source": [
        "## Create The dataset for TF"
      ]
    },
    {
      "cell_type": "code",
      "metadata": {
        "colab": {
          "base_uri": "https://localhost:8080/"
        },
        "id": "lNEqZpsaXIN1",
        "outputId": "cf5c02fb-e7b5-45fe-e6d1-aed2cd847ed7"
      },
      "source": [
        "image_size = (102, 136) \n",
        "batch_size = 32\n",
        "\n",
        "train_ds = tf.keras.preprocessing.image_dataset_from_directory(\n",
        "    \"data2\",\n",
        "    labels = 'inferred',\n",
        "    label_mode='categorical',\n",
        "    validation_split=0.2,\n",
        "    subset=\"training\",\n",
        "    seed=1337,\n",
        "    image_size=image_size,\n",
        "    batch_size=batch_size,\n",
        ")\n",
        "val_ds = tf.keras.preprocessing.image_dataset_from_directory(\n",
        "    \"data2\",\n",
        "    labels = 'inferred',\n",
        "    label_mode='categorical',\n",
        "    validation_split=0.2,\n",
        "    subset=\"validation\",\n",
        "    seed=1337,\n",
        "    image_size=image_size,\n",
        "    batch_size=batch_size,\n",
        ")"
      ],
      "execution_count": 46,
      "outputs": [
        {
          "output_type": "stream",
          "text": [
            "Found 104 files belonging to 4 classes.\n",
            "Using 84 files for training.\n",
            "Found 104 files belonging to 4 classes.\n",
            "Using 20 files for validation.\n"
          ],
          "name": "stdout"
        }
      ]
    },
    {
      "cell_type": "code",
      "metadata": {
        "colab": {
          "base_uri": "https://localhost:8080/"
        },
        "id": "NGhVHLUBZRP3",
        "outputId": "9de54ec3-28d2-48f1-ead7-bcba2b56e361"
      },
      "source": [
        "# View a single example entry from a batch\n",
        "features, label = iter(train_ds).next()\n",
        "print(\"example features:\", features[0])\n",
        "print(\"example label:\", label[0])"
      ],
      "execution_count": null,
      "outputs": [
        {
          "output_type": "stream",
          "text": [
            "example features: tf.Tensor(\n",
            "[[[255. 255. 255.]\n",
            "  [255. 255. 255.]\n",
            "  [255. 255. 255.]\n",
            "  ...\n",
            "  [255. 255. 255.]\n",
            "  [255. 255. 255.]\n",
            "  [255. 255. 255.]]\n",
            "\n",
            " [[255. 255. 255.]\n",
            "  [255. 255. 255.]\n",
            "  [255. 255. 255.]\n",
            "  ...\n",
            "  [255. 255. 255.]\n",
            "  [255. 255. 255.]\n",
            "  [255. 255. 255.]]\n",
            "\n",
            " [[255. 255. 255.]\n",
            "  [255. 255. 255.]\n",
            "  [255. 255. 255.]\n",
            "  ...\n",
            "  [255. 255. 255.]\n",
            "  [255. 255. 255.]\n",
            "  [255. 255. 255.]]\n",
            "\n",
            " ...\n",
            "\n",
            " [[255. 255. 255.]\n",
            "  [255. 255. 255.]\n",
            "  [255. 255. 255.]\n",
            "  ...\n",
            "  [255. 255. 255.]\n",
            "  [255. 255. 255.]\n",
            "  [255. 255. 255.]]\n",
            "\n",
            " [[255. 255. 255.]\n",
            "  [255. 255. 255.]\n",
            "  [255. 255. 255.]\n",
            "  ...\n",
            "  [255. 255. 255.]\n",
            "  [255. 255. 255.]\n",
            "  [255. 255. 255.]]\n",
            "\n",
            " [[255. 255. 255.]\n",
            "  [255. 255. 255.]\n",
            "  [255. 255. 255.]\n",
            "  ...\n",
            "  [255. 255. 255.]\n",
            "  [255. 255. 255.]\n",
            "  [255. 255. 255.]]], shape=(102, 136, 3), dtype=float32)\n",
            "example label: tf.Tensor([0. 0. 1. 0.], shape=(4,), dtype=float32)\n"
          ],
          "name": "stdout"
        }
      ]
    },
    {
      "cell_type": "code",
      "metadata": {
        "colab": {
          "base_uri": "https://localhost:8080/"
        },
        "id": "AdADKqKAXId-",
        "outputId": "e7d4f278-071f-4f28-c3b8-fda4273258a0"
      },
      "source": [
        "# The class names that is inferred from the folders names\n",
        "class_names = train_ds.class_names\n",
        "print(class_names)"
      ],
      "execution_count": null,
      "outputs": [
        {
          "output_type": "stream",
          "text": [
            "['Boots', 'Sandals', 'Shoes', 'Slippers']\n"
          ],
          "name": "stdout"
        }
      ]
    },
    {
      "cell_type": "code",
      "metadata": {
        "colab": {
          "base_uri": "https://localhost:8080/"
        },
        "id": "9M5McCzotcU0",
        "outputId": "a35045b4-af65-447a-f641-94df1a6abfaa"
      },
      "source": [
        "# print(\"example label:\", list(label[0].numpy()).index(1))"
      ],
      "execution_count": null,
      "outputs": [
        {
          "output_type": "stream",
          "text": [
            "example label: 2\n"
          ],
          "name": "stdout"
        }
      ]
    },
    {
      "cell_type": "code",
      "metadata": {
        "colab": {
          "base_uri": "https://localhost:8080/",
          "height": 503
        },
        "id": "yI-r_k6vgGQr",
        "outputId": "8442cc10-0c09-4dc0-85af-f8e801f17af3"
      },
      "source": [
        "#Visualize a random subset of the training data\n",
        "\n",
        "import matplotlib.pyplot as plt\n",
        "\n",
        "plt.figure(figsize=(10, 10))\n",
        "for images, labels in train_ds.take(1):\n",
        "  for i in range(15):\n",
        "    ax = plt.subplot(3, 5, i + 1)\n",
        "    plt.imshow(images[i].numpy().astype(\"uint8\"))\n",
        "    plt.title(class_names[list(label[i].numpy()).index(1)])    \n",
        "    plt.axis(\"off\")"
      ],
      "execution_count": null,
      "outputs": [
        {
          "output_type": "display_data",
          "data": {
            "image/png": "[encoded data removed]",
            "text/plain": [
              "<Figure size 720x720 with 15 Axes>"
            ]
          },
          "metadata": {
            "tags": [],
            "needs_background": "light"
          }
        }
      ]
    },
    {
      "cell_type": "code",
      "metadata": {
        "colab": {
          "base_uri": "https://localhost:8080/"
        },
        "id": "YU6EYFHxwWqP",
        "outputId": "12c676ef-706e-4aa7-f9ba-fecdbc818bc3"
      },
      "source": [
        "# Check the batch shape\n",
        "for image_batch, labels_batch in train_ds:\n",
        "    print(image_batch.shape)\n",
        "    print(labels_batch.shape)\n",
        "    break"
      ],
      "execution_count": null,
      "outputs": [
        {
          "output_type": "stream",
          "text": [
            "(32, 102, 136, 3)\n",
            "(32, 4)\n"
          ],
          "name": "stdout"
        }
      ]
    },
    {
      "cell_type": "code",
      "metadata": {
        "id": "HAqMKrwcgQDt"
      },
      "source": [
        "# Configure the dataset for performance\n",
        "\n",
        "# train_ds = train_ds.prefetch(buffer_size=32)\n",
        "# val_ds = val_ds.prefetch(buffer_size=32)\n",
        "\n",
        "AUTOTUNE = tf.data.AUTOTUNE\n",
        "\n",
        "train_ds = train_ds.cache().shuffle(1000).prefetch(buffer_size=AUTOTUNE)\n",
        "val_ds = val_ds.cache().prefetch(buffer_size=AUTOTUNE)"
      ],
      "execution_count": null,
      "outputs": []
    },
    {
      "cell_type": "code",
      "metadata": {
        "id": "Tpa33t_RwV73"
      },
      "source": [
        "\n"
      ],
      "execution_count": null,
      "outputs": []
    },
    {
      "cell_type": "code",
      "metadata": {
        "id": "mHt8Q0jfm3ac"
      },
      "source": [
        "from tensorflow.keras.applications.inception_v3 import InceptionV3\n",
        "from tensorflow.keras.preprocessing import image\n",
        "from tensorflow.keras.models import Model\n",
        "from tensorflow.keras.layers import Dense, GlobalAveragePooling2D\n",
        "from tensorflow.keras.layers import Input"
      ],
      "execution_count": null,
      "outputs": []
    },
    {
      "cell_type": "code",
      "metadata": {
        "id": "9DOuKRDjm3UO"
      },
      "source": [
        "# this could also be the output a different Keras model or layer\n",
        "input_tensor = Input(shape=(102, 136, 3))\n",
        "\n",
        "base_model = InceptionV3(input_tensor=input_tensor, weights='imagenet', include_top=False)\n",
        "\n",
        "# create the base pre-trained model\n",
        "# base_model = InceptionV3(weights='imagenet', include_top=False)\n",
        "\n",
        "# add a global spatial average pooling layer\n",
        "x = base_model.output\n",
        "x = GlobalAveragePooling2D()(x)\n",
        "# let's add a fully-connected layer\n",
        "x = Dense(1024, activation='relu')(x)\n",
        "# and a logistic layer -- let's say we have 200 classes\n",
        "predictions = Dense(4, activation='softmax')(x)\n",
        "\n",
        "# this is the model we will train\n",
        "model = Model(inputs=base_model.input, outputs=predictions)\n",
        "\n",
        "# first: train only the top layers (which were randomly initialized)\n",
        "# i.e. freeze all convolutional InceptionV3 layers\n",
        "for layer in base_model.layers:\n",
        "    layer.trainable = False\n",
        "\n"
      ],
      "execution_count": null,
      "outputs": []
    },
    {
      "cell_type": "code",
      "metadata": {
        "colab": {
          "base_uri": "https://localhost:8080/"
        },
        "id": "-PTVW9d8owzC",
        "outputId": "d24050d8-c02d-4253-87d6-248003132241"
      },
      "source": [
        "epochs = 10\n",
        "\n",
        "callbacks = [\n",
        "    tf.keras.callbacks.ModelCheckpoint(\"save_at_{epoch}.h5\"),\n",
        "]\n",
        "model.compile(\n",
        "    optimizer='rmsprop', \n",
        "    loss='categorical_crossentropy',\n",
        "    metrics=[\"accuracy\"],\n",
        ")\n",
        "model.fit(\n",
        "    train_ds, epochs=epochs, callbacks=callbacks, validation_data=val_ds,\n",
        ")"
      ],
      "execution_count": null,
      "outputs": [
        {
          "output_type": "stream",
          "text": [
            "Epoch 1/10\n",
            "1251/1251 [==============================] - 64s 49ms/step - loss: 45.1006 - accuracy: 0.7149 - val_loss: 0.4983 - val_accuracy: 0.8245\n",
            "Epoch 2/10\n",
            "1251/1251 [==============================] - 59s 47ms/step - loss: 0.5780 - accuracy: 0.8234 - val_loss: 0.4202 - val_accuracy: 0.8586\n",
            "Epoch 3/10\n",
            "1251/1251 [==============================] - 59s 47ms/step - loss: 0.5161 - accuracy: 0.8386 - val_loss: 0.4974 - val_accuracy: 0.8290\n",
            "Epoch 4/10\n",
            "1251/1251 [==============================] - 59s 47ms/step - loss: 0.4788 - accuracy: 0.8454 - val_loss: 0.4141 - val_accuracy: 0.8651\n",
            "Epoch 5/10\n",
            "1251/1251 [==============================] - 59s 47ms/step - loss: 0.4466 - accuracy: 0.8550 - val_loss: 0.4637 - val_accuracy: 0.8446\n",
            "Epoch 6/10\n",
            "1251/1251 [==============================] - 58s 47ms/step - loss: 0.4507 - accuracy: 0.8556 - val_loss: 0.4276 - val_accuracy: 0.8610\n",
            "Epoch 7/10\n",
            "1251/1251 [==============================] - 59s 47ms/step - loss: 0.4325 - accuracy: 0.8610 - val_loss: 0.3986 - val_accuracy: 0.8718\n",
            "Epoch 8/10\n",
            "1251/1251 [==============================] - 59s 47ms/step - loss: 0.4324 - accuracy: 0.8592 - val_loss: 0.4020 - val_accuracy: 0.8681\n",
            "Epoch 9/10\n",
            "1251/1251 [==============================] - 59s 47ms/step - loss: 0.4256 - accuracy: 0.8629 - val_loss: 0.4532 - val_accuracy: 0.8491\n",
            "Epoch 10/10\n",
            "1251/1251 [==============================] - 59s 47ms/step - loss: 0.4199 - accuracy: 0.8628 - val_loss: 0.6573 - val_accuracy: 0.8382\n"
          ],
          "name": "stdout"
        },
        {
          "output_type": "execute_result",
          "data": {
            "text/plain": [
              "<tensorflow.python.keras.callbacks.History at 0x7f09be309cd0>"
            ]
          },
          "metadata": {
            "tags": []
          },
          "execution_count": 65
        }
      ]
    },
    {
      "cell_type": "code",
      "metadata": {
        "colab": {
          "base_uri": "https://localhost:8080/"
        },
        "id": "s1RY4jQpkNcV",
        "outputId": "98ba2063-066c-42a4-a0cc-10fe60a3c5b7"
      },
      "source": [
        "# small dataset\n",
        "\n",
        "epochs = 10\n",
        "\n",
        "callbacks = [\n",
        "    tf.keras.callbacks.ModelCheckpoint(\"save_at_{epoch}.h5\"),\n",
        "]\n",
        "model.compile(\n",
        "    optimizer='rmsprop', \n",
        "    loss='categorical_crossentropy',\n",
        "    metrics=[\"accuracy\"],\n",
        ")\n",
        "model.fit(\n",
        "    train_ds, epochs=epochs, callbacks=callbacks, validation_data=val_ds,\n",
        ")"
      ],
      "execution_count": null,
      "outputs": [
        {
          "output_type": "stream",
          "text": [
            "Epoch 1/10\n",
            "3/3 [==============================] - 37s 1s/step - loss: 741.3154 - accuracy: 0.4230 - val_loss: 844.4233 - val_accuracy: 0.2000\n",
            "Epoch 2/10\n",
            "3/3 [==============================] - 0s 105ms/step - loss: 661.6199 - accuracy: 0.2861 - val_loss: 568.1359 - val_accuracy: 0.4000\n",
            "Epoch 3/10\n",
            "3/3 [==============================] - 0s 114ms/step - loss: 240.0905 - accuracy: 0.5686 - val_loss: 266.2350 - val_accuracy: 0.5000\n",
            "Epoch 4/10\n",
            "3/3 [==============================] - 0s 110ms/step - loss: 108.3272 - accuracy: 0.6297 - val_loss: 352.9018 - val_accuracy: 0.3000\n",
            "Epoch 5/10\n",
            "3/3 [==============================] - 0s 101ms/step - loss: 170.4978 - accuracy: 0.4176 - val_loss: 168.7582 - val_accuracy: 0.5000\n",
            "Epoch 6/10\n",
            "3/3 [==============================] - 0s 107ms/step - loss: 66.6077 - accuracy: 0.7108 - val_loss: 96.7060 - val_accuracy: 0.3500\n",
            "Epoch 7/10\n",
            "3/3 [==============================] - 0s 106ms/step - loss: 53.2386 - accuracy: 0.5908 - val_loss: 224.0308 - val_accuracy: 0.3000\n",
            "Epoch 8/10\n",
            "3/3 [==============================] - 0s 103ms/step - loss: 107.5874 - accuracy: 0.4807 - val_loss: 137.9519 - val_accuracy: 0.5000\n",
            "Epoch 9/10\n",
            "3/3 [==============================] - 0s 103ms/step - loss: 31.3004 - accuracy: 0.7461 - val_loss: 65.4330 - val_accuracy: 0.5500\n",
            "Epoch 10/10\n",
            "3/3 [==============================] - 0s 105ms/step - loss: 12.0961 - accuracy: 0.8149 - val_loss: 57.9811 - val_accuracy: 0.6500\n"
          ],
          "name": "stdout"
        },
        {
          "output_type": "execute_result",
          "data": {
            "text/plain": [
              "<tensorflow.python.keras.callbacks.History at 0x7f69e43cb5d0>"
            ]
          },
          "metadata": {
            "tags": []
          },
          "execution_count": 48
        }
      ]
    },
    {
      "cell_type": "code",
      "metadata": {
        "colab": {
          "base_uri": "https://localhost:8080/"
        },
        "id": "z6vgKbcZo5VO",
        "outputId": "39d4496d-e2e6-4ac6-a6c5-6a6a8f2728d0"
      },
      "source": [
        "# at this point, the top layers are well trained and we can start fine-tuning\n",
        "# convolutional layers from inception V3. We will freeze the bottom N layers\n",
        "# and train the remaining top layers.\n",
        "\n",
        "# let's visualize layer names and layer indices to see how many layers\n",
        "# we should freeze:\n",
        "for i, layer in enumerate(base_model.layers):\n",
        "   print(i, layer.name)\n",
        "\n",
        "# we chose to train the top 2 inception blocks, i.e. we will freeze\n",
        "# the first 249 layers and unfreeze the rest:\n",
        "for layer in model.layers[:249]:\n",
        "   layer.trainable = False\n",
        "for layer in model.layers[249:]:\n",
        "   layer.trainable = True\n"
      ],
      "execution_count": null,
      "outputs": [
        {
          "output_type": "stream",
          "text": [
            "0 input_2\n",
            "1 conv2d_94\n",
            "2 batch_normalization_94\n",
            "3 activation_94\n",
            "4 conv2d_95\n",
            "5 batch_normalization_95\n",
            "6 activation_95\n",
            "7 conv2d_96\n",
            "8 batch_normalization_96\n",
            "9 activation_96\n",
            "10 max_pooling2d_4\n",
            "11 conv2d_97\n",
            "12 batch_normalization_97\n",
            "13 activation_97\n",
            "14 conv2d_98\n",
            "15 batch_normalization_98\n",
            "16 activation_98\n",
            "17 max_pooling2d_5\n",
            "18 conv2d_102\n",
            "19 batch_normalization_102\n",
            "20 activation_102\n",
            "21 conv2d_100\n",
            "22 conv2d_103\n",
            "23 batch_normalization_100\n",
            "24 batch_normalization_103\n",
            "25 activation_100\n",
            "26 activation_103\n",
            "27 average_pooling2d_9\n",
            "28 conv2d_99\n",
            "29 conv2d_101\n",
            "30 conv2d_104\n",
            "31 conv2d_105\n",
            "32 batch_normalization_99\n",
            "33 batch_normalization_101\n",
            "34 batch_normalization_104\n",
            "35 batch_normalization_105\n",
            "36 activation_99\n",
            "37 activation_101\n",
            "38 activation_104\n",
            "39 activation_105\n",
            "40 mixed0\n",
            "41 conv2d_109\n",
            "42 batch_normalization_109\n",
            "43 activation_109\n",
            "44 conv2d_107\n",
            "45 conv2d_110\n",
            "46 batch_normalization_107\n",
            "47 batch_normalization_110\n",
            "48 activation_107\n",
            "49 activation_110\n",
            "50 average_pooling2d_10\n",
            "51 conv2d_106\n",
            "52 conv2d_108\n",
            "53 conv2d_111\n",
            "54 conv2d_112\n",
            "55 batch_normalization_106\n",
            "56 batch_normalization_108\n",
            "57 batch_normalization_111\n",
            "58 batch_normalization_112\n",
            "59 activation_106\n",
            "60 activation_108\n",
            "61 activation_111\n",
            "62 activation_112\n",
            "63 mixed1\n",
            "64 conv2d_116\n",
            "65 batch_normalization_116\n",
            "66 activation_116\n",
            "67 conv2d_114\n",
            "68 conv2d_117\n",
            "69 batch_normalization_114\n",
            "70 batch_normalization_117\n",
            "71 activation_114\n",
            "72 activation_117\n",
            "73 average_pooling2d_11\n",
            "74 conv2d_113\n",
            "75 conv2d_115\n",
            "76 conv2d_118\n",
            "77 conv2d_119\n",
            "78 batch_normalization_113\n",
            "79 batch_normalization_115\n",
            "80 batch_normalization_118\n",
            "81 batch_normalization_119\n",
            "82 activation_113\n",
            "83 activation_115\n",
            "84 activation_118\n",
            "85 activation_119\n",
            "86 mixed2\n",
            "87 conv2d_121\n",
            "88 batch_normalization_121\n",
            "89 activation_121\n",
            "90 conv2d_122\n",
            "91 batch_normalization_122\n",
            "92 activation_122\n",
            "93 conv2d_120\n",
            "94 conv2d_123\n",
            "95 batch_normalization_120\n",
            "96 batch_normalization_123\n",
            "97 activation_120\n",
            "98 activation_123\n",
            "99 max_pooling2d_6\n",
            "100 mixed3\n",
            "101 conv2d_128\n",
            "102 batch_normalization_128\n",
            "103 activation_128\n",
            "104 conv2d_129\n",
            "105 batch_normalization_129\n",
            "106 activation_129\n",
            "107 conv2d_125\n",
            "108 conv2d_130\n",
            "109 batch_normalization_125\n",
            "110 batch_normalization_130\n",
            "111 activation_125\n",
            "112 activation_130\n",
            "113 conv2d_126\n",
            "114 conv2d_131\n",
            "115 batch_normalization_126\n",
            "116 batch_normalization_131\n",
            "117 activation_126\n",
            "118 activation_131\n",
            "119 average_pooling2d_12\n",
            "120 conv2d_124\n",
            "121 conv2d_127\n",
            "122 conv2d_132\n",
            "123 conv2d_133\n",
            "124 batch_normalization_124\n",
            "125 batch_normalization_127\n",
            "126 batch_normalization_132\n",
            "127 batch_normalization_133\n",
            "128 activation_124\n",
            "129 activation_127\n",
            "130 activation_132\n",
            "131 activation_133\n",
            "132 mixed4\n",
            "133 conv2d_138\n",
            "134 batch_normalization_138\n",
            "135 activation_138\n",
            "136 conv2d_139\n",
            "137 batch_normalization_139\n",
            "138 activation_139\n",
            "139 conv2d_135\n",
            "140 conv2d_140\n",
            "141 batch_normalization_135\n",
            "142 batch_normalization_140\n",
            "143 activation_135\n",
            "144 activation_140\n",
            "145 conv2d_136\n",
            "146 conv2d_141\n",
            "147 batch_normalization_136\n",
            "148 batch_normalization_141\n",
            "149 activation_136\n",
            "150 activation_141\n",
            "151 average_pooling2d_13\n",
            "152 conv2d_134\n",
            "153 conv2d_137\n",
            "154 conv2d_142\n",
            "155 conv2d_143\n",
            "156 batch_normalization_134\n",
            "157 batch_normalization_137\n",
            "158 batch_normalization_142\n",
            "159 batch_normalization_143\n",
            "160 activation_134\n",
            "161 activation_137\n",
            "162 activation_142\n",
            "163 activation_143\n",
            "164 mixed5\n",
            "165 conv2d_148\n",
            "166 batch_normalization_148\n",
            "167 activation_148\n",
            "168 conv2d_149\n",
            "169 batch_normalization_149\n",
            "170 activation_149\n",
            "171 conv2d_145\n",
            "172 conv2d_150\n",
            "173 batch_normalization_145\n",
            "174 batch_normalization_150\n",
            "175 activation_145\n",
            "176 activation_150\n",
            "177 conv2d_146\n",
            "178 conv2d_151\n",
            "179 batch_normalization_146\n",
            "180 batch_normalization_151\n",
            "181 activation_146\n",
            "182 activation_151\n",
            "183 average_pooling2d_14\n",
            "184 conv2d_144\n",
            "185 conv2d_147\n",
            "186 conv2d_152\n",
            "187 conv2d_153\n",
            "188 batch_normalization_144\n",
            "189 batch_normalization_147\n",
            "190 batch_normalization_152\n",
            "191 batch_normalization_153\n",
            "192 activation_144\n",
            "193 activation_147\n",
            "194 activation_152\n",
            "195 activation_153\n",
            "196 mixed6\n",
            "197 conv2d_158\n",
            "198 batch_normalization_158\n",
            "199 activation_158\n",
            "200 conv2d_159\n",
            "201 batch_normalization_159\n",
            "202 activation_159\n",
            "203 conv2d_155\n",
            "204 conv2d_160\n",
            "205 batch_normalization_155\n",
            "206 batch_normalization_160\n",
            "207 activation_155\n",
            "208 activation_160\n",
            "209 conv2d_156\n",
            "210 conv2d_161\n",
            "211 batch_normalization_156\n",
            "212 batch_normalization_161\n",
            "213 activation_156\n",
            "214 activation_161\n",
            "215 average_pooling2d_15\n",
            "216 conv2d_154\n",
            "217 conv2d_157\n",
            "218 conv2d_162\n",
            "219 conv2d_163\n",
            "220 batch_normalization_154\n",
            "221 batch_normalization_157\n",
            "222 batch_normalization_162\n",
            "223 batch_normalization_163\n",
            "224 activation_154\n",
            "225 activation_157\n",
            "226 activation_162\n",
            "227 activation_163\n",
            "228 mixed7\n",
            "229 conv2d_166\n",
            "230 batch_normalization_166\n",
            "231 activation_166\n",
            "232 conv2d_167\n",
            "233 batch_normalization_167\n",
            "234 activation_167\n",
            "235 conv2d_164\n",
            "236 conv2d_168\n",
            "237 batch_normalization_164\n",
            "238 batch_normalization_168\n",
            "239 activation_164\n",
            "240 activation_168\n",
            "241 conv2d_165\n",
            "242 conv2d_169\n",
            "243 batch_normalization_165\n",
            "244 batch_normalization_169\n",
            "245 activation_165\n",
            "246 activation_169\n",
            "247 max_pooling2d_7\n",
            "248 mixed8\n",
            "249 conv2d_174\n",
            "250 batch_normalization_174\n",
            "251 activation_174\n",
            "252 conv2d_171\n",
            "253 conv2d_175\n",
            "254 batch_normalization_171\n",
            "255 batch_normalization_175\n",
            "256 activation_171\n",
            "257 activation_175\n",
            "258 conv2d_172\n",
            "259 conv2d_173\n",
            "260 conv2d_176\n",
            "261 conv2d_177\n",
            "262 average_pooling2d_16\n",
            "263 conv2d_170\n",
            "264 batch_normalization_172\n",
            "265 batch_normalization_173\n",
            "266 batch_normalization_176\n",
            "267 batch_normalization_177\n",
            "268 conv2d_178\n",
            "269 batch_normalization_170\n",
            "270 activation_172\n",
            "271 activation_173\n",
            "272 activation_176\n",
            "273 activation_177\n",
            "274 batch_normalization_178\n",
            "275 activation_170\n",
            "276 mixed9_0\n",
            "277 concatenate_2\n",
            "278 activation_178\n",
            "279 mixed9\n",
            "280 conv2d_183\n",
            "281 batch_normalization_183\n",
            "282 activation_183\n",
            "283 conv2d_180\n",
            "284 conv2d_184\n",
            "285 batch_normalization_180\n",
            "286 batch_normalization_184\n",
            "287 activation_180\n",
            "288 activation_184\n",
            "289 conv2d_181\n",
            "290 conv2d_182\n",
            "291 conv2d_185\n",
            "292 conv2d_186\n",
            "293 average_pooling2d_17\n",
            "294 conv2d_179\n",
            "295 batch_normalization_181\n",
            "296 batch_normalization_182\n",
            "297 batch_normalization_185\n",
            "298 batch_normalization_186\n",
            "299 conv2d_187\n",
            "300 batch_normalization_179\n",
            "301 activation_181\n",
            "302 activation_182\n",
            "303 activation_185\n",
            "304 activation_186\n",
            "305 batch_normalization_187\n",
            "306 activation_179\n",
            "307 mixed9_1\n",
            "308 concatenate_3\n",
            "309 activation_187\n",
            "310 mixed10\n"
          ],
          "name": "stdout"
        }
      ]
    },
    {
      "cell_type": "code",
      "metadata": {
        "colab": {
          "base_uri": "https://localhost:8080/"
        },
        "id": "jRx_mxBa73g_",
        "outputId": "092fb552-103b-4989-c14e-4f1175c6a1d9"
      },
      "source": [
        "epochs = 10\n",
        "\n",
        "callbacks = [\n",
        "    tf.keras.callbacks.ModelCheckpoint(\"save2nd_at_{epoch}.h5\", monitor='val_loss', verbose=0, save_best_only=True),\n",
        "]\n",
        "# model.compile(\n",
        "#     optimizer='rmsprop', \n",
        "#     loss='categorical_crossentropy',\n",
        "#     metrics=[\"accuracy\"],\n",
        "# )\n",
        "\n",
        "# we need to recompile the model for these modifications to take effect\n",
        "# we use SGD with a low learning rate\n",
        "from tensorflow.keras.optimizers import SGD\n",
        "model.compile(optimizer=SGD(lr=0.0001, momentum=0.9), loss='categorical_crossentropy', metrics=[\"accuracy\"],)\n",
        "\n",
        "# we train our model again (this time fine-tuning the top 2 inception blocks\n",
        "# alongside the top Dense layers\n",
        "model.fit(\n",
        "    train_ds, epochs=epochs, callbacks=callbacks, validation_data=val_ds,\n",
        ")"
      ],
      "execution_count": null,
      "outputs": [
        {
          "output_type": "stream",
          "text": [
            "Epoch 1/10\n",
            "1251/1251 [==============================] - 76s 57ms/step - loss: 0.6063 - accuracy: 0.7904 - val_loss: 0.3926 - val_accuracy: 0.8606\n",
            "Epoch 2/10\n",
            "1251/1251 [==============================] - 72s 58ms/step - loss: 0.3733 - accuracy: 0.8698 - val_loss: 0.3420 - val_accuracy: 0.8847\n",
            "Epoch 3/10\n",
            "1251/1251 [==============================] - 70s 56ms/step - loss: 0.3216 - accuracy: 0.8860 - val_loss: 0.3149 - val_accuracy: 0.8902\n",
            "Epoch 4/10\n",
            "1251/1251 [==============================] - 71s 57ms/step - loss: 0.2888 - accuracy: 0.8973 - val_loss: 0.3052 - val_accuracy: 0.8930\n",
            "Epoch 5/10\n",
            "1251/1251 [==============================] - 71s 56ms/step - loss: 0.2638 - accuracy: 0.9070 - val_loss: 0.2954 - val_accuracy: 0.8973\n",
            "Epoch 6/10\n",
            "1251/1251 [==============================] - 72s 57ms/step - loss: 0.2456 - accuracy: 0.9105 - val_loss: 0.2978 - val_accuracy: 0.8968\n",
            "Epoch 7/10\n",
            "1251/1251 [==============================] - 70s 56ms/step - loss: 0.2252 - accuracy: 0.9175 - val_loss: 0.3008 - val_accuracy: 0.8923\n",
            "Epoch 8/10\n",
            "1251/1251 [==============================] - 70s 56ms/step - loss: 0.2059 - accuracy: 0.9243 - val_loss: 0.2979 - val_accuracy: 0.8957\n",
            "Epoch 9/10\n",
            "1251/1251 [==============================] - 70s 56ms/step - loss: 0.1963 - accuracy: 0.9265 - val_loss: 0.2932 - val_accuracy: 0.9011\n",
            "Epoch 10/10\n",
            "1251/1251 [==============================] - 70s 56ms/step - loss: 0.1830 - accuracy: 0.9341 - val_loss: 0.3013 - val_accuracy: 0.8985\n"
          ],
          "name": "stdout"
        },
        {
          "output_type": "execute_result",
          "data": {
            "text/plain": [
              "<tensorflow.python.keras.callbacks.History at 0x7f09cc492850>"
            ]
          },
          "metadata": {
            "tags": []
          },
          "execution_count": 68
        }
      ]
    },
    {
      "cell_type": "code",
      "metadata": {
        "id": "5x2S3v9FAz7C"
      },
      "source": [
        ""
      ],
      "execution_count": null,
      "outputs": []
    },
    {
      "cell_type": "code",
      "metadata": {
        "id": "9Qs9_PaoAz_d"
      },
      "source": [
        ""
      ],
      "execution_count": null,
      "outputs": []
    },
    {
      "cell_type": "code",
      "metadata": {
        "id": "kPXRFIPYZPtQ"
      },
      "source": [
        ""
      ],
      "execution_count": null,
      "outputs": []
    }
  ]
}