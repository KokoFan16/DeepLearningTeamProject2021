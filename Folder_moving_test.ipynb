{
  "nbformat": 4,
  "nbformat_minor": 0,
  "metadata": {
    "colab": {
      "name": "Folder_moving_test.ipynb",
      "provenance": [],
      "collapsed_sections": [],
      "mount_file_id": "1USKphOZWE_TtgIO1tHZHC0f0n3J17erK",
      "authorship_tag": "ABX9TyMG1KHe7SU1QkqJaGTBDJHb",
      "include_colab_link": true
    },
    "kernelspec": {
      "name": "python3",
      "display_name": "Python 3"
    },
    "language_info": {
      "name": "python"
    }
  },
  "cells": [
    {
      "cell_type": "markdown",
      "metadata": {
        "id": "view-in-github",
        "colab_type": "text"
      },
      "source": [
        "<a href=\"https://colab.research.google.com/github/KokoFan16/DeepLearningTeamProject2021/blob/main/Folder_moving_test.ipynb\" target=\"_parent\"><img src=\"https://colab.research.google.com/assets/colab-badge.svg\" alt=\"Open In Colab\"/></a>"
      ]
    },
    {
      "cell_type": "code",
      "metadata": {
        "id": "vEGHF-vZ_rgE"
      },
      "source": [
        "#download dataset and unzip\n",
        "!wget http://vision.cs.utexas.edu/projects/finegrained/utzap50k/ut-zap50k-images.zip\n",
        "!unzip ut-zap50k-images.zip\n"
      ],
      "execution_count": null,
      "outputs": []
    },
    {
      "cell_type": "code",
      "metadata": {
        "id": "S9PTtDlTYlvp"
      },
      "source": [
        "#drive mount\n",
        "from google.colab import drive\n",
        "drive.mount('content/')"
      ],
      "execution_count": null,
      "outputs": []
    },
    {
      "cell_type": "code",
      "metadata": {
        "id": "4tPZNLyQ_6Ko"
      },
      "source": [
        "import os\n",
        "import shutil\n",
        "\n",
        "#get currenct location\n",
        "os.getcwd()\n",
        "root = '/content/ut-zap50k-images'\n",
        "subfolder_name = []\n",
        "\n",
        "#Make directory to save the image\n",
        "def makedir(dirname):\n",
        "  foldernames = os.listdir(dirname)\n",
        "  for subfolder in foldernames:\n",
        "    subfolder_name.append(subfolder)\n",
        "    #if there is no folder with the same name, have to make a directory.\n",
        "    if not os.path.exists(subfolder):\n",
        "      os.makedirs(subfolder)\n",
        "\n",
        "#Distinguish between folders and files or folders\n",
        "def searchdir(dirname):\n",
        "  filenames = os.listdir(dirname)\n",
        "\n",
        "  #loop for searching file and folder\n",
        "  for filename in filenames:\n",
        "    #get the full path of the file\n",
        "    full_filename = os.path.join(dirname, filename)\n",
        "    #base folder such as boots, shoew and so on.\n",
        "    base_folder_name = full_filename.split('/')[3]\n",
        "    \n",
        "    #if it is directory, go inside to find the files\n",
        "    if os.path.isdir(full_filename):\n",
        "      searchdir(full_filename)\n",
        "    else:\n",
        "      #if it is file, move from original folder to result folder.\n",
        "      shutil.move(full_filename, base_folder_name + '/' + os.path.basename(full_filename))\n",
        "\n",
        "#\n",
        "makedir(root)\n",
        "searchdir(root)\n",
        "\n",
        "\n"
      ],
      "execution_count": 7,
      "outputs": []
    }
  ]
}