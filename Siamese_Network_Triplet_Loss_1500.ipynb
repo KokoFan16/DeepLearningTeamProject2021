{
  "nbformat": 4,
  "nbformat_minor": 0,
  "metadata": {
    "colab": {
      "name": "Siamese_Network_Triplet_Loss_1500.ipynb",
      "provenance": [],
      "collapsed_sections": []
    },
    "kernelspec": {
      "name": "python3",
      "display_name": "Python 3"
    },
    "language_info": {
      "name": "python"
    },
    "accelerator": "GPU"
  },
  "cells": [
    {
      "cell_type": "markdown",
      "metadata": {
        "id": "c9LGKRtzlSze"
      },
      "source": [
        "# Import liabraries"
      ]
    },
    {
      "cell_type": "code",
      "metadata": {
        "id": "OYxr6hfHDa4u",
        "colab": {
          "base_uri": "https://localhost:8080/"
        },
        "outputId": "272b5c08-dfab-4f52-dd78-62813d30a005"
      },
      "source": [
        "pip install -q -U tensorflow-addons"
      ],
      "execution_count": null,
      "outputs": [
        {
          "output_type": "stream",
          "text": [
            "\u001b[?25l\r\u001b[K     |▌                               | 10kB 30.5MB/s eta 0:00:01\r\u001b[K     |█                               | 20kB 32.7MB/s eta 0:00:01\r\u001b[K     |█▍                              | 30kB 24.3MB/s eta 0:00:01\r\u001b[K     |█▉                              | 40kB 19.2MB/s eta 0:00:01\r\u001b[K     |██▎                             | 51kB 21.6MB/s eta 0:00:01\r\u001b[K     |██▉                             | 61kB 15.8MB/s eta 0:00:01\r\u001b[K     |███▎                            | 71kB 16.0MB/s eta 0:00:01\r\u001b[K     |███▊                            | 81kB 15.6MB/s eta 0:00:01\r\u001b[K     |████▏                           | 92kB 17.0MB/s eta 0:00:01\r\u001b[K     |████▋                           | 102kB 16.0MB/s eta 0:00:01\r\u001b[K     |█████▏                          | 112kB 16.0MB/s eta 0:00:01\r\u001b[K     |█████▋                          | 122kB 16.0MB/s eta 0:00:01\r\u001b[K     |██████                          | 133kB 16.0MB/s eta 0:00:01\r\u001b[K     |██████▌                         | 143kB 16.0MB/s eta 0:00:01\r\u001b[K     |███████                         | 153kB 16.0MB/s eta 0:00:01\r\u001b[K     |███████▌                        | 163kB 16.0MB/s eta 0:00:01\r\u001b[K     |████████                        | 174kB 16.0MB/s eta 0:00:01\r\u001b[K     |████████▍                       | 184kB 16.0MB/s eta 0:00:01\r\u001b[K     |████████▉                       | 194kB 16.0MB/s eta 0:00:01\r\u001b[K     |█████████▎                      | 204kB 16.0MB/s eta 0:00:01\r\u001b[K     |█████████▉                      | 215kB 16.0MB/s eta 0:00:01\r\u001b[K     |██████████▎                     | 225kB 16.0MB/s eta 0:00:01\r\u001b[K     |██████████▊                     | 235kB 16.0MB/s eta 0:00:01\r\u001b[K     |███████████▏                    | 245kB 16.0MB/s eta 0:00:01\r\u001b[K     |███████████▋                    | 256kB 16.0MB/s eta 0:00:01\r\u001b[K     |████████████▏                   | 266kB 16.0MB/s eta 0:00:01\r\u001b[K     |████████████▋                   | 276kB 16.0MB/s eta 0:00:01\r\u001b[K     |█████████████                   | 286kB 16.0MB/s eta 0:00:01\r\u001b[K     |█████████████▌                  | 296kB 16.0MB/s eta 0:00:01\r\u001b[K     |██████████████                  | 307kB 16.0MB/s eta 0:00:01\r\u001b[K     |██████████████▍                 | 317kB 16.0MB/s eta 0:00:01\r\u001b[K     |███████████████                 | 327kB 16.0MB/s eta 0:00:01\r\u001b[K     |███████████████▍                | 337kB 16.0MB/s eta 0:00:01\r\u001b[K     |███████████████▉                | 348kB 16.0MB/s eta 0:00:01\r\u001b[K     |████████████████▎               | 358kB 16.0MB/s eta 0:00:01\r\u001b[K     |████████████████▊               | 368kB 16.0MB/s eta 0:00:01\r\u001b[K     |█████████████████▎              | 378kB 16.0MB/s eta 0:00:01\r\u001b[K     |█████████████████▊              | 389kB 16.0MB/s eta 0:00:01\r\u001b[K     |██████████████████▏             | 399kB 16.0MB/s eta 0:00:01\r\u001b[K     |██████████████████▋             | 409kB 16.0MB/s eta 0:00:01\r\u001b[K     |███████████████████             | 419kB 16.0MB/s eta 0:00:01\r\u001b[K     |███████████████████▋            | 430kB 16.0MB/s eta 0:00:01\r\u001b[K     |████████████████████            | 440kB 16.0MB/s eta 0:00:01\r\u001b[K     |████████████████████▌           | 450kB 16.0MB/s eta 0:00:01\r\u001b[K     |█████████████████████           | 460kB 16.0MB/s eta 0:00:01\r\u001b[K     |█████████████████████▍          | 471kB 16.0MB/s eta 0:00:01\r\u001b[K     |██████████████████████          | 481kB 16.0MB/s eta 0:00:01\r\u001b[K     |██████████████████████▍         | 491kB 16.0MB/s eta 0:00:01\r\u001b[K     |██████████████████████▉         | 501kB 16.0MB/s eta 0:00:01\r\u001b[K     |███████████████████████▎        | 512kB 16.0MB/s eta 0:00:01\r\u001b[K     |███████████████████████▊        | 522kB 16.0MB/s eta 0:00:01\r\u001b[K     |████████████████████████▎       | 532kB 16.0MB/s eta 0:00:01\r\u001b[K     |████████████████████████▊       | 542kB 16.0MB/s eta 0:00:01\r\u001b[K     |█████████████████████████▏      | 552kB 16.0MB/s eta 0:00:01\r\u001b[K     |█████████████████████████▋      | 563kB 16.0MB/s eta 0:00:01\r\u001b[K     |██████████████████████████      | 573kB 16.0MB/s eta 0:00:01\r\u001b[K     |██████████████████████████▋     | 583kB 16.0MB/s eta 0:00:01\r\u001b[K     |███████████████████████████     | 593kB 16.0MB/s eta 0:00:01\r\u001b[K     |███████████████████████████▌    | 604kB 16.0MB/s eta 0:00:01\r\u001b[K     |████████████████████████████    | 614kB 16.0MB/s eta 0:00:01\r\u001b[K     |████████████████████████████▍   | 624kB 16.0MB/s eta 0:00:01\r\u001b[K     |████████████████████████████▉   | 634kB 16.0MB/s eta 0:00:01\r\u001b[K     |█████████████████████████████▍  | 645kB 16.0MB/s eta 0:00:01\r\u001b[K     |█████████████████████████████▉  | 655kB 16.0MB/s eta 0:00:01\r\u001b[K     |██████████████████████████████▎ | 665kB 16.0MB/s eta 0:00:01\r\u001b[K     |██████████████████████████████▊ | 675kB 16.0MB/s eta 0:00:01\r\u001b[K     |███████████████████████████████▏| 686kB 16.0MB/s eta 0:00:01\r\u001b[K     |███████████████████████████████▊| 696kB 16.0MB/s eta 0:00:01\r\u001b[K     |████████████████████████████████| 706kB 16.0MB/s \n",
            "\u001b[?25h"
          ],
          "name": "stdout"
        }
      ]
    },
    {
      "cell_type": "code",
      "metadata": {
        "colab": {
          "base_uri": "https://localhost:8080/"
        },
        "id": "5EfGyFiFGwIM",
        "outputId": "c142649b-1b45-4a55-f423-da7742c59f42"
      },
      "source": [
        "pip install split-folders\n"
      ],
      "execution_count": null,
      "outputs": [
        {
          "output_type": "stream",
          "text": [
            "Collecting split-folders\n",
            "  Downloading https://files.pythonhosted.org/packages/b8/5f/3c2b2f7ea5e047c8cdc3bb00ae582c5438fcdbbedcc23b3cc1c2c7aae642/split_folders-0.4.3-py3-none-any.whl\n",
            "Installing collected packages: split-folders\n",
            "Successfully installed split-folders-0.4.3\n"
          ],
          "name": "stdout"
        }
      ]
    },
    {
      "cell_type": "code",
      "metadata": {
        "id": "jtoVvQW8I0SN"
      },
      "source": [
        "\n",
        "import os \n",
        "import splitfolders \n",
        "from glob import glob\n",
        "from collections import Counter\n",
        "import matplotlib.pyplot as plt\n",
        "import io\n",
        "import numpy as np\n",
        "import tensorflow as tf\n",
        "import tensorflow_addons as tfa\n",
        "import tensorflow_datasets as tfds\n",
        "import random\n",
        "\n",
        "from pathlib import Path\n",
        "from tensorflow.keras import applications\n",
        "from tensorflow.keras import layers\n",
        "from tensorflow.keras import losses\n",
        "from tensorflow.keras import optimizers\n",
        "from tensorflow.keras import metrics\n",
        "from tensorflow.keras import Model\n",
        "from tensorflow.keras.applications import xception"
      ],
      "execution_count": null,
      "outputs": []
    },
    {
      "cell_type": "markdown",
      "metadata": {
        "id": "gxP8Uqkpkmi6"
      },
      "source": [
        "# Image Preprocessing"
      ]
    },
    {
      "cell_type": "code",
      "metadata": {
        "colab": {
          "base_uri": "https://localhost:8080/"
        },
        "id": "KktUgOhZCDcC",
        "outputId": "60822530-4490-4ac0-e4e8-cf47eb108f1e"
      },
      "source": [
        "# Dowload the dataset\n",
        "!wget http://vision.cs.utexas.edu/projects/finegrained/utzap50k/ut-zap50k-images.zip\n",
        "!unzip ut-zap50k-images.zip > /dev/null"
      ],
      "execution_count": null,
      "outputs": [
        {
          "output_type": "stream",
          "text": [
            "--2021-04-18 12:30:23--  http://vision.cs.utexas.edu/projects/finegrained/utzap50k/ut-zap50k-images.zip\n",
            "Resolving vision.cs.utexas.edu (vision.cs.utexas.edu)... 128.83.120.116\n",
            "Connecting to vision.cs.utexas.edu (vision.cs.utexas.edu)|128.83.120.116|:80... connected.\n",
            "HTTP request sent, awaiting response... 200 OK\n",
            "Length: 305323328 (291M) [application/zip]\n",
            "Saving to: ‘ut-zap50k-images.zip’\n",
            "\n",
            "ut-zap50k-images.zi 100%[===================>] 291.18M  70.6MB/s    in 4.3s    \n",
            "\n",
            "2021-04-18 12:30:27 (67.6 MB/s) - ‘ut-zap50k-images.zip’ saved [305323328/305323328]\n",
            "\n"
          ],
          "name": "stdout"
        }
      ]
    },
    {
      "cell_type": "code",
      "metadata": {
        "id": "BQAF11SeLz9_"
      },
      "source": [
        "import os\n",
        "dir_name = \"./data\"\n",
        "isDir = os.path.isdir(dir_name) \n",
        "if not isDir:\n",
        "    !mkdir data\n",
        "    !mkdir data/Boots data/Sandals data/Shoes data/Slippers\n",
        "    !find ut-zap50k-images/Boots -type f -name \"*.jpg\" | head -1500 | xargs -d '\\n' mv -t data/Boots;\n",
        "    !find ut-zap50k-images/Sandals -type f -name \"*.jpg\" | head -1500 | xargs -d '\\n' mv -t data/Sandals;\n",
        "    !find ut-zap50k-images/Shoes -type f -name \"*.jpg\" | head -1500 | xargs -d '\\n' mv -t data/Shoes;\n",
        "    !find ut-zap50k-images/Slippers -type f -print0 | xargs -0 mv -t data/Slippers;\n",
        "    !rm -rf ut-zap50k-images;"
      ],
      "execution_count": null,
      "outputs": []
    },
    {
      "cell_type": "code",
      "metadata": {
        "id": "xIHQHjnXIu8j",
        "colab": {
          "base_uri": "https://localhost:8080/"
        },
        "outputId": "73ac6a22-1df9-495b-c163-8efdb89371c0"
      },
      "source": [
        "# pip install split-folders\n",
        "\n",
        "# split dataset into train (2000), test(1000) and validation (1000)\n",
        "splitfolders.ratio('data', output=\"splitted_data\", seed=1337, ratio=(.8, 0.1, 0.1))"
      ],
      "execution_count": null,
      "outputs": [
        {
          "output_type": "stream",
          "text": [
            "\n",
            "Copying files: 0 files [00:00, ? files/s]\u001b[A\n",
            "Copying files: 776 files [00:00, 7751.78 files/s]\u001b[A\n",
            "Copying files: 1623 files [00:00, 7949.92 files/s]\u001b[A\n",
            "Copying files: 2564 files [00:00, 8336.65 files/s]\u001b[A\n",
            "Copying files: 3402 files [00:00, 8348.74 files/s]\u001b[A\n",
            "Copying files: 4480 files [00:00, 8953.77 files/s]\u001b[A\n",
            "Copying files: 5783 files [00:00, 8377.20 files/s]\n"
          ],
          "name": "stderr"
        }
      ]
    },
    {
      "cell_type": "code",
      "metadata": {
        "id": "PyS46LvfPnRP",
        "colab": {
          "base_uri": "https://localhost:8080/"
        },
        "outputId": "f2804b8d-5702-4a93-d3e7-358c80fc09e5"
      },
      "source": [
        "dir_name = \"./data\"\n",
        "\n",
        "files='**/*.jpg'\n",
        "filenames = glob(os.path.join(dir_name, files))\n",
        "classes = [os.path.basename(os.path.dirname(name)) for name in filenames]\n",
        "count = list(Counter(classes).items())\n",
        "print(\"Class count:\", count);"
      ],
      "execution_count": null,
      "outputs": [
        {
          "output_type": "stream",
          "text": [
            "Class count: [('Shoes', 1500), ('Sandals', 1500), ('Boots', 1500), ('Slippers', 1283)]\n"
          ],
          "name": "stdout"
        }
      ]
    },
    {
      "cell_type": "code",
      "metadata": {
        "colab": {
          "base_uri": "https://localhost:8080/"
        },
        "id": "DDRK4mRMPnlg",
        "outputId": "ad6bf9c0-e01f-483b-d72f-c07af6d8f6fe"
      },
      "source": [
        "class_names = os.listdir(dir_name) # Get names of classes\n",
        "class_name2id = { label: index for index, label in enumerate(class_names) } # Map class names to integer labels\n",
        "print(\"Classes:\", class_name2id)\n",
        "\n",
        "labels = [class_name2id[c] for c in classes]\n",
        "Counter(labels)"
      ],
      "execution_count": null,
      "outputs": [
        {
          "output_type": "stream",
          "text": [
            "Classes: {'Shoes': 0, 'Sandals': 1, 'Boots': 2, 'Slippers': 3}\n"
          ],
          "name": "stdout"
        },
        {
          "output_type": "execute_result",
          "data": {
            "text/plain": [
              "Counter({0: 1500, 1: 1500, 2: 1500, 3: 1283})"
            ]
          },
          "metadata": {
            "tags": []
          },
          "execution_count": 8
        }
      ]
    },
    {
      "cell_type": "markdown",
      "metadata": {
        "id": "05T_HzuBkr-6"
      },
      "source": [
        "# Create The dataset for TF"
      ]
    },
    {
      "cell_type": "code",
      "metadata": {
        "colab": {
          "base_uri": "https://localhost:8080/"
        },
        "id": "-hFc4DbTCoOm",
        "outputId": "708fb1eb-f3fe-448a-f238-991368a44f3e"
      },
      "source": [
        "image_size = (102, 136) \n",
        "batch_size = 16\n",
        "\n",
        "train_ds = tf.keras.preprocessing.image_dataset_from_directory(\n",
        "    \"splitted_data/train\",\n",
        "    labels = 'inferred',\n",
        "    label_mode='int',\n",
        "    # validation_split=0.2,\n",
        "    # subset=\"training\",\n",
        "    seed=1234,\n",
        "    image_size=image_size,\n",
        "    batch_size=batch_size,\n",
        ")\n",
        "\n",
        "val_ds = tf.keras.preprocessing.image_dataset_from_directory(\n",
        "    \"splitted_data/val\",\n",
        "    labels = 'inferred',\n",
        "    label_mode='int',\n",
        "    # validation_split=None,\n",
        "    # subset=\"validation\",\n",
        "    seed=1234,\n",
        "    image_size=image_size,\n",
        "    batch_size=batch_size,\n",
        ")\n",
        "\n",
        "test_ds = tf.keras.preprocessing.image_dataset_from_directory(\n",
        "    \"splitted_data/test\",\n",
        "    labels = 'inferred',\n",
        "    label_mode='int',\n",
        "    # validation_split=None,\n",
        "    # subset=\"validation\",\n",
        "    seed=1234,\n",
        "    image_size=image_size,\n",
        "    batch_size=batch_size,\n",
        ")"
      ],
      "execution_count": null,
      "outputs": [
        {
          "output_type": "stream",
          "text": [
            "Found 4626 files belonging to 4 classes.\n",
            "Found 578 files belonging to 4 classes.\n",
            "Found 579 files belonging to 4 classes.\n"
          ],
          "name": "stdout"
        }
      ]
    },
    {
      "cell_type": "code",
      "metadata": {
        "id": "y-_pQJ6vQn-D"
      },
      "source": [
        ""
      ],
      "execution_count": null,
      "outputs": []
    },
    {
      "cell_type": "code",
      "metadata": {
        "id": "FnDgKrFiMiIi"
      },
      "source": [
        "AUTOTUNE = tf.data.AUTOTUNE\n",
        "norm_layer = layers.experimental.preprocessing.Rescaling(1./255)\n",
        "\n",
        "train_ds1 = train_ds.cache().shuffle(1000).prefetch(buffer_size=AUTOTUNE)\n",
        "train_ds1 = train_ds1.map(lambda x, y: (norm_layer(x), y))   #  pixels values be in '[0,1]'\n",
        "\n",
        "val_ds1 = val_ds.cache().prefetch(buffer_size=AUTOTUNE)\n",
        "val_ds1 = val_ds1.map(lambda x, y: (norm_layer(x), y))      \n",
        "\n",
        "test_ds1 = test_ds.cache().prefetch(buffer_size=AUTOTUNE)\n",
        "test_ds1 = test_ds1.map(lambda x, y: (norm_layer(x), y))      "
      ],
      "execution_count": null,
      "outputs": []
    },
    {
      "cell_type": "code",
      "metadata": {
        "id": "lpnt6zkcn54A"
      },
      "source": [
        ""
      ],
      "execution_count": null,
      "outputs": []
    },
    {
      "cell_type": "markdown",
      "metadata": {
        "id": "-YlPpEE8n6OF"
      },
      "source": [
        "# SIAMESE NETWORK\n"
      ]
    },
    {
      "cell_type": "code",
      "metadata": {
        "id": "gTRwNbD_m-bs"
      },
      "source": [
        "input = tf.keras.layers.Input(shape=image_size+(3,))\n",
        "x = tf.keras.layers.Conv2D(filters=64, kernel_size=2, strides=(2, 2), padding='same', activation='relu')(input)\n",
        "x = tf.keras.layers.MaxPooling2D()(x)\n",
        "x = tf.keras.layers.Dropout(0.3)(x)\n",
        "x = tf.keras.layers.Conv2D(filters=128, kernel_size=2, strides=(2, 2), padding='same', activation='relu')(x)\n",
        "x = tf.keras.layers.MaxPooling2D()(x)\n",
        "x = tf.keras.layers.Dropout(0.3)(x)\n",
        "x = tf.keras.layers.Flatten()(x)\n",
        "embeddings = tf.keras.layers.Dense(512, activation=None)(x) # No activation on final dense layer\n",
        "distance = tf.keras.layers.Lambda(lambda x: tf.math.l2_normalize(x, axis=1))(embeddings) # L2 normalize embeddings\n",
        "\n",
        "siamese_model = tf.keras.models.Model(inputs=input, outputs=distance)"
      ],
      "execution_count": null,
      "outputs": []
    },
    {
      "cell_type": "code",
      "metadata": {
        "colab": {
          "base_uri": "https://localhost:8080/"
        },
        "id": "I59jORZln6OM",
        "outputId": "309e307f-1276-4869-8e4c-ced47b32ae2a"
      },
      "source": [
        "siamese_model.summary()"
      ],
      "execution_count": null,
      "outputs": [
        {
          "output_type": "stream",
          "text": [
            "Model: \"model\"\n",
            "_________________________________________________________________\n",
            "Layer (type)                 Output Shape              Param #   \n",
            "=================================================================\n",
            "input_2 (InputLayer)         [(None, 102, 136, 3)]     0         \n",
            "_________________________________________________________________\n",
            "conv2d_4 (Conv2D)            (None, 51, 68, 64)        832       \n",
            "_________________________________________________________________\n",
            "max_pooling2d (MaxPooling2D) (None, 25, 34, 64)        0         \n",
            "_________________________________________________________________\n",
            "dropout (Dropout)            (None, 25, 34, 64)        0         \n",
            "_________________________________________________________________\n",
            "conv2d_5 (Conv2D)            (None, 13, 17, 128)       32896     \n",
            "_________________________________________________________________\n",
            "max_pooling2d_1 (MaxPooling2 (None, 6, 8, 128)         0         \n",
            "_________________________________________________________________\n",
            "dropout_1 (Dropout)          (None, 6, 8, 128)         0         \n",
            "_________________________________________________________________\n",
            "flatten (Flatten)            (None, 6144)              0         \n",
            "_________________________________________________________________\n",
            "dense_2 (Dense)              (None, 512)               3146240   \n",
            "_________________________________________________________________\n",
            "lambda_1 (Lambda)            (None, 512)               0         \n",
            "=================================================================\n",
            "Total params: 3,179,968\n",
            "Trainable params: 3,179,968\n",
            "Non-trainable params: 0\n",
            "_________________________________________________________________\n"
          ],
          "name": "stdout"
        }
      ]
    },
    {
      "cell_type": "markdown",
      "metadata": {
        "id": "5_EzLIvyn6ON"
      },
      "source": [
        "# Train the model"
      ]
    },
    {
      "cell_type": "code",
      "metadata": {
        "id": "UlkyXjg9n6OO"
      },
      "source": [
        "# Compile the model\n",
        "siamese_model.compile(\n",
        "    optimizer=tf.keras.optimizers.Adam(0.001),\n",
        "    loss=tfa.losses.TripletHardLoss())\n"
      ],
      "execution_count": null,
      "outputs": []
    },
    {
      "cell_type": "code",
      "metadata": {
        "colab": {
          "base_uri": "https://localhost:8080/"
        },
        "id": "c6z0F736n6OP",
        "outputId": "b392e2a1-361d-4630-ec24-734c9e7b2ffa"
      },
      "source": [
        "import time\n",
        "start_time = time.time()\n",
        "\n",
        "# Train the network\n",
        "history = siamese_model.fit(\n",
        "    train_ds1,\n",
        "    epochs=10,\n",
        "    validation_data=(val_ds1), \n",
        "    # callbacks=[tbCallBack])\n",
        ")\n",
        "\n",
        "print(f\"\\nTrained for {(time.time() - start_time) / 60} minutes \")"
      ],
      "execution_count": null,
      "outputs": [
        {
          "output_type": "stream",
          "text": [
            "Epoch 1/10\n",
            "290/290 [==============================] - 36s 10ms/step - loss: 1.0075 - val_loss: 0.9745\n",
            "Epoch 2/10\n",
            "290/290 [==============================] - 2s 7ms/step - loss: 0.8775 - val_loss: 0.8157\n",
            "Epoch 3/10\n",
            "290/290 [==============================] - 2s 8ms/step - loss: 0.8225 - val_loss: 0.8301\n",
            "Epoch 4/10\n",
            "290/290 [==============================] - 2s 8ms/step - loss: 0.8006 - val_loss: 0.9562\n",
            "Epoch 5/10\n",
            "290/290 [==============================] - 2s 7ms/step - loss: 0.8282 - val_loss: 0.8270\n",
            "Epoch 6/10\n",
            "290/290 [==============================] - 2s 7ms/step - loss: 0.7916 - val_loss: 0.8082\n",
            "Epoch 7/10\n",
            "290/290 [==============================] - 2s 7ms/step - loss: 0.7884 - val_loss: 0.8283\n",
            "Epoch 8/10\n",
            "290/290 [==============================] - 2s 7ms/step - loss: 0.8014 - val_loss: 0.8287\n",
            "Epoch 9/10\n",
            "290/290 [==============================] - 2s 7ms/step - loss: 0.7744 - val_loss: 0.8176\n",
            "Epoch 10/10\n",
            "290/290 [==============================] - 2s 7ms/step - loss: 0.7650 - val_loss: 0.7911\n",
            "\n",
            "Trained for 0.9321279088656108 minutes \n"
          ],
          "name": "stdout"
        }
      ]
    },
    {
      "cell_type": "code",
      "metadata": {
        "colab": {
          "base_uri": "https://localhost:8080/",
          "height": 425
        },
        "id": "cK0gAJD3n6OQ",
        "outputId": "058449eb-250d-4726-de3c-b2e5d4310619"
      },
      "source": [
        "plt.style.use(\"ggplot\")\n",
        "plt.figure(figsize=(8, 6))\n",
        "plt.plot(history.history[\"loss\"], label=\"train_loss\")\n",
        "plt.plot(history.history[\"val_loss\"], label=\"val_loss\")\n",
        "plt.title(\"Training Loss\")\n",
        "plt.xlabel(\"Epoch #\")\n",
        "plt.ylabel(\"Loss\")\n",
        "plt.legend(loc=\"lower left\")"
      ],
      "execution_count": null,
      "outputs": [
        {
          "output_type": "execute_result",
          "data": {
            "text/plain": [
              "<matplotlib.legend.Legend at 0x7f65b010a110>"
            ]
          },
          "metadata": {
            "tags": []
          },
          "execution_count": 17
        },
        {
          "output_type": "display_data",
          "data": {
            "image/png": "[encoded data removed]",
            "text/plain": [
              "<Figure size 576x432 with 1 Axes>"
            ]
          },
          "metadata": {
            "tags": []
          }
        }
      ]
    },
    {
      "cell_type": "code",
      "metadata": {
        "colab": {
          "base_uri": "https://localhost:8080/",
          "height": 17
        },
        "id": "1rEkGTq-n6OR",
        "outputId": "8afcee02-e336-49cf-c7f0-75810c10a208"
      },
      "source": [
        "# Evaluate the network\n",
        "results = siamese_model.predict(test_ds1)\n",
        "\n",
        "# Save test embeddings for visualization in projector\n",
        "np.savetxt(\"vecs.tsv\", results, delimiter='\\t')\n",
        "\n",
        "out_m = io.open('meta.tsv', 'w', encoding='utf-8')\n",
        "for img, labels in tfds.as_numpy(test_ds1):\n",
        "    [out_m.write(str(x) + \"\\n\") for x in labels]\n",
        "out_m.close()\n",
        "\n",
        "\n",
        "try:\n",
        "  from google.colab import files\n",
        "  files.download('vecs.tsv')\n",
        "  files.download('meta.tsv')\n",
        "except:\n",
        "  pass"
      ],
      "execution_count": null,
      "outputs": [
        {
          "output_type": "display_data",
          "data": {
            "application/javascript": [
              "\n",
              "    async function download(id, filename, size) {\n",
              "      if (!google.colab.kernel.accessAllowed) {\n",
              "        return;\n",
              "      }\n",
              "      const div = document.createElement('div');\n",
              "      const label = document.createElement('label');\n",
              "      label.textContent = `Downloading \"${filename}\": `;\n",
              "      div.appendChild(label);\n",
              "      const progress = document.createElement('progress');\n",
              "      progress.max = size;\n",
              "      div.appendChild(progress);\n",
              "      document.body.appendChild(div);\n",
              "\n",
              "      const buffers = [];\n",
              "      let downloaded = 0;\n",
              "\n",
              "      const channel = await google.colab.kernel.comms.open(id);\n",
              "      // Send a message to notify the kernel that we're ready.\n",
              "      channel.send({})\n",
              "\n",
              "      for await (const message of channel.messages) {\n",
              "        // Send a message to notify the kernel that we're ready.\n",
              "        channel.send({})\n",
              "        if (message.buffers) {\n",
              "          for (const buffer of message.buffers) {\n",
              "            buffers.push(buffer);\n",
              "            downloaded += buffer.byteLength;\n",
              "            progress.value = downloaded;\n",
              "          }\n",
              "        }\n",
              "      }\n",
              "      const blob = new Blob(buffers, {type: 'application/binary'});\n",
              "      const a = document.createElement('a');\n",
              "      a.href = window.URL.createObjectURL(blob);\n",
              "      a.download = filename;\n",
              "      div.appendChild(a);\n",
              "      a.click();\n",
              "      div.remove();\n",
              "    }\n",
              "  "
            ],
            "text/plain": [
              "<IPython.core.display.Javascript object>"
            ]
          },
          "metadata": {
            "tags": []
          }
        },
        {
          "output_type": "display_data",
          "data": {
            "application/javascript": [
              "download(\"download_850210b4-0260-4430-b963-acae794db36d\", \"vecs.tsv\", 3779258)"
            ],
            "text/plain": [
              "<IPython.core.display.Javascript object>"
            ]
          },
          "metadata": {
            "tags": []
          }
        },
        {
          "output_type": "display_data",
          "data": {
            "application/javascript": [
              "\n",
              "    async function download(id, filename, size) {\n",
              "      if (!google.colab.kernel.accessAllowed) {\n",
              "        return;\n",
              "      }\n",
              "      const div = document.createElement('div');\n",
              "      const label = document.createElement('label');\n",
              "      label.textContent = `Downloading \"${filename}\": `;\n",
              "      div.appendChild(label);\n",
              "      const progress = document.createElement('progress');\n",
              "      progress.max = size;\n",
              "      div.appendChild(progress);\n",
              "      document.body.appendChild(div);\n",
              "\n",
              "      const buffers = [];\n",
              "      let downloaded = 0;\n",
              "\n",
              "      const channel = await google.colab.kernel.comms.open(id);\n",
              "      // Send a message to notify the kernel that we're ready.\n",
              "      channel.send({})\n",
              "\n",
              "      for await (const message of channel.messages) {\n",
              "        // Send a message to notify the kernel that we're ready.\n",
              "        channel.send({})\n",
              "        if (message.buffers) {\n",
              "          for (const buffer of message.buffers) {\n",
              "            buffers.push(buffer);\n",
              "            downloaded += buffer.byteLength;\n",
              "            progress.value = downloaded;\n",
              "          }\n",
              "        }\n",
              "      }\n",
              "      const blob = new Blob(buffers, {type: 'application/binary'});\n",
              "      const a = document.createElement('a');\n",
              "      a.href = window.URL.createObjectURL(blob);\n",
              "      a.download = filename;\n",
              "      div.appendChild(a);\n",
              "      a.click();\n",
              "      div.remove();\n",
              "    }\n",
              "  "
            ],
            "text/plain": [
              "<IPython.core.display.Javascript object>"
            ]
          },
          "metadata": {
            "tags": []
          }
        },
        {
          "output_type": "display_data",
          "data": {
            "application/javascript": [
              "download(\"download_63bfffaf-34db-4a29-bd2c-62a759cd5b8c\", \"meta.tsv\", 1158)"
            ],
            "text/plain": [
              "<IPython.core.display.Javascript object>"
            ]
          },
          "metadata": {
            "tags": []
          }
        }
      ]
    },
    {
      "cell_type": "markdown",
      "metadata": {
        "id": "RrWBLhj1n6OS"
      },
      "source": [
        "# Feature extraction"
      ]
    },
    {
      "cell_type": "code",
      "metadata": {
        "id": "Dejd0aYBn6OT"
      },
      "source": [
        "train_results = siamese_model.predict(train_ds1)\n",
        "val_results = siamese_model.predict(val_ds1)\n",
        "test_results = siamese_model.predict(test_ds1)\n"
      ],
      "execution_count": null,
      "outputs": []
    },
    {
      "cell_type": "code",
      "metadata": {
        "colab": {
          "base_uri": "https://localhost:8080/"
        },
        "id": "3cJiHrmcn6OU",
        "outputId": "a18f968a-0790-4ac4-eb41-2836bb3b507d"
      },
      "source": [
        "y_train = np.concatenate([y for x, y in train_ds1], axis=0)\n",
        "y_test = np.concatenate([y for x, y in test_ds1], axis=0)\n",
        "y_val = np.concatenate([y for x, y in val_ds1], axis=0)\n",
        "y_train[0]"
      ],
      "execution_count": null,
      "outputs": [
        {
          "output_type": "execute_result",
          "data": {
            "text/plain": [
              "2"
            ]
          },
          "metadata": {
            "tags": []
          },
          "execution_count": 19
        }
      ]
    },
    {
      "cell_type": "markdown",
      "metadata": {
        "id": "FDWIbZAXn6OV"
      },
      "source": [
        "# Single layer classifier"
      ]
    },
    {
      "cell_type": "code",
      "metadata": {
        "id": "BSVJUmMun6OV"
      },
      "source": [
        "class_model = tf.keras.Sequential(name=\"class_model\")\n",
        "# class_model.add(tf.keras.layers.Dense(128, activation='relu', name=\"dense_layer1\"))\n",
        "class_model.add(tf.keras.layers.Dense(4, activation='softmax', name=\"predictions\"))"
      ],
      "execution_count": null,
      "outputs": []
    },
    {
      "cell_type": "code",
      "metadata": {
        "colab": {
          "base_uri": "https://localhost:8080/"
        },
        "id": "17ekq0KLn6OW",
        "outputId": "97c45bfe-7fba-471d-a87f-b4c1732aee5d"
      },
      "source": [
        "from tensorflow.keras.optimizers import SGD, Adam\n",
        "import time\n",
        "\n",
        "class_model.compile(optimizer=Adam(lr=0.001), \n",
        "                    loss=tf.keras.losses.SparseCategoricalCrossentropy(), \n",
        "                    metrics=[\"accuracy\"]\n",
        "                    )\n",
        "\n",
        "start_time = time.time()\n",
        "\n",
        "history = class_model.fit(x=val_results, y= y_val, \n",
        "                          epochs=50, \n",
        "                          validation_data=(val_results, y_val),\n",
        ")\n",
        "\n",
        "print(f\"\\nTrained for {(time.time() - start_time) / 60} minutes \")"
      ],
      "execution_count": null,
      "outputs": [
        {
          "output_type": "stream",
          "text": [
            "Epoch 1/50\n",
            "19/19 [==============================] - 0s 11ms/step - loss: 1.3553 - accuracy: 0.3239 - val_loss: 1.1977 - val_accuracy: 0.4931\n",
            "Epoch 2/50\n",
            "19/19 [==============================] - 0s 5ms/step - loss: 1.1576 - accuracy: 0.5959 - val_loss: 1.0550 - val_accuracy: 0.6332\n",
            "Epoch 3/50\n",
            "19/19 [==============================] - 0s 5ms/step - loss: 1.0391 - accuracy: 0.5725 - val_loss: 0.9703 - val_accuracy: 0.6730\n",
            "Epoch 4/50\n",
            "19/19 [==============================] - 0s 4ms/step - loss: 0.9721 - accuracy: 0.6772 - val_loss: 0.9118 - val_accuracy: 0.7266\n",
            "Epoch 5/50\n",
            "19/19 [==============================] - 0s 6ms/step - loss: 0.9041 - accuracy: 0.7475 - val_loss: 0.8706 - val_accuracy: 0.7422\n",
            "Epoch 6/50\n",
            "19/19 [==============================] - 0s 6ms/step - loss: 0.8677 - accuracy: 0.7558 - val_loss: 0.8388 - val_accuracy: 0.7595\n",
            "Epoch 7/50\n",
            "19/19 [==============================] - 0s 5ms/step - loss: 0.8376 - accuracy: 0.7653 - val_loss: 0.8119 - val_accuracy: 0.7612\n",
            "Epoch 8/50\n",
            "19/19 [==============================] - 0s 5ms/step - loss: 0.8150 - accuracy: 0.7619 - val_loss: 0.7896 - val_accuracy: 0.7855\n",
            "Epoch 9/50\n",
            "19/19 [==============================] - 0s 5ms/step - loss: 0.7813 - accuracy: 0.7998 - val_loss: 0.7701 - val_accuracy: 0.7941\n",
            "Epoch 10/50\n",
            "19/19 [==============================] - 0s 5ms/step - loss: 0.7520 - accuracy: 0.8244 - val_loss: 0.7526 - val_accuracy: 0.8512\n",
            "Epoch 11/50\n",
            "19/19 [==============================] - 0s 5ms/step - loss: 0.7481 - accuracy: 0.8345 - val_loss: 0.7371 - val_accuracy: 0.8270\n",
            "Epoch 12/50\n",
            "19/19 [==============================] - 0s 5ms/step - loss: 0.7584 - accuracy: 0.8089 - val_loss: 0.7219 - val_accuracy: 0.8547\n",
            "Epoch 13/50\n",
            "19/19 [==============================] - 0s 5ms/step - loss: 0.7197 - accuracy: 0.8428 - val_loss: 0.7085 - val_accuracy: 0.8495\n",
            "Epoch 14/50\n",
            "19/19 [==============================] - 0s 5ms/step - loss: 0.6819 - accuracy: 0.8729 - val_loss: 0.6954 - val_accuracy: 0.8720\n",
            "Epoch 15/50\n",
            "19/19 [==============================] - 0s 5ms/step - loss: 0.6979 - accuracy: 0.8731 - val_loss: 0.6832 - val_accuracy: 0.8789\n",
            "Epoch 16/50\n",
            "19/19 [==============================] - 0s 5ms/step - loss: 0.6684 - accuracy: 0.9056 - val_loss: 0.6718 - val_accuracy: 0.9135\n",
            "Epoch 17/50\n",
            "19/19 [==============================] - 0s 5ms/step - loss: 0.6519 - accuracy: 0.9211 - val_loss: 0.6603 - val_accuracy: 0.9014\n",
            "Epoch 18/50\n",
            "19/19 [==============================] - 0s 5ms/step - loss: 0.6496 - accuracy: 0.8930 - val_loss: 0.6492 - val_accuracy: 0.8910\n",
            "Epoch 19/50\n",
            "19/19 [==============================] - 0s 4ms/step - loss: 0.6418 - accuracy: 0.8852 - val_loss: 0.6387 - val_accuracy: 0.8997\n",
            "Epoch 20/50\n",
            "19/19 [==============================] - 0s 5ms/step - loss: 0.6068 - accuracy: 0.8951 - val_loss: 0.6288 - val_accuracy: 0.8633\n",
            "Epoch 21/50\n",
            "19/19 [==============================] - 0s 5ms/step - loss: 0.6407 - accuracy: 0.8494 - val_loss: 0.6189 - val_accuracy: 0.8685\n",
            "Epoch 22/50\n",
            "19/19 [==============================] - 0s 5ms/step - loss: 0.6264 - accuracy: 0.8662 - val_loss: 0.6098 - val_accuracy: 0.8858\n",
            "Epoch 23/50\n",
            "19/19 [==============================] - 0s 5ms/step - loss: 0.6272 - accuracy: 0.8694 - val_loss: 0.6009 - val_accuracy: 0.8754\n",
            "Epoch 24/50\n",
            "19/19 [==============================] - 0s 5ms/step - loss: 0.5848 - accuracy: 0.8665 - val_loss: 0.5919 - val_accuracy: 0.8875\n",
            "Epoch 25/50\n",
            "19/19 [==============================] - 0s 5ms/step - loss: 0.5882 - accuracy: 0.8904 - val_loss: 0.5836 - val_accuracy: 0.8789\n",
            "Epoch 26/50\n",
            "19/19 [==============================] - 0s 5ms/step - loss: 0.5880 - accuracy: 0.8816 - val_loss: 0.5765 - val_accuracy: 0.8737\n",
            "Epoch 27/50\n",
            "19/19 [==============================] - 0s 4ms/step - loss: 0.5449 - accuracy: 0.8907 - val_loss: 0.5683 - val_accuracy: 0.8841\n",
            "Epoch 28/50\n",
            "19/19 [==============================] - 0s 5ms/step - loss: 0.5673 - accuracy: 0.8808 - val_loss: 0.5601 - val_accuracy: 0.8910\n",
            "Epoch 29/50\n",
            "19/19 [==============================] - 0s 5ms/step - loss: 0.5735 - accuracy: 0.8883 - val_loss: 0.5531 - val_accuracy: 0.8875\n",
            "Epoch 30/50\n",
            "19/19 [==============================] - 0s 5ms/step - loss: 0.5755 - accuracy: 0.8615 - val_loss: 0.5465 - val_accuracy: 0.9118\n",
            "Epoch 31/50\n",
            "19/19 [==============================] - 0s 5ms/step - loss: 0.5498 - accuracy: 0.9026 - val_loss: 0.5388 - val_accuracy: 0.9066\n",
            "Epoch 32/50\n",
            "19/19 [==============================] - 0s 5ms/step - loss: 0.5397 - accuracy: 0.9097 - val_loss: 0.5333 - val_accuracy: 0.8893\n",
            "Epoch 33/50\n",
            "19/19 [==============================] - 0s 5ms/step - loss: 0.5398 - accuracy: 0.8783 - val_loss: 0.5262 - val_accuracy: 0.9014\n",
            "Epoch 34/50\n",
            "19/19 [==============================] - 0s 5ms/step - loss: 0.5168 - accuracy: 0.9150 - val_loss: 0.5207 - val_accuracy: 0.9048\n",
            "Epoch 35/50\n",
            "19/19 [==============================] - 0s 5ms/step - loss: 0.5328 - accuracy: 0.9085 - val_loss: 0.5150 - val_accuracy: 0.9135\n",
            "Epoch 36/50\n",
            "19/19 [==============================] - 0s 5ms/step - loss: 0.5177 - accuracy: 0.9080 - val_loss: 0.5082 - val_accuracy: 0.9118\n",
            "Epoch 37/50\n",
            "19/19 [==============================] - 0s 5ms/step - loss: 0.5042 - accuracy: 0.9051 - val_loss: 0.5024 - val_accuracy: 0.9152\n",
            "Epoch 38/50\n",
            "19/19 [==============================] - 0s 5ms/step - loss: 0.4915 - accuracy: 0.9121 - val_loss: 0.4967 - val_accuracy: 0.9152\n",
            "Epoch 39/50\n",
            "19/19 [==============================] - 0s 5ms/step - loss: 0.5013 - accuracy: 0.9240 - val_loss: 0.4913 - val_accuracy: 0.9100\n",
            "Epoch 40/50\n",
            "19/19 [==============================] - 0s 5ms/step - loss: 0.4870 - accuracy: 0.9247 - val_loss: 0.4865 - val_accuracy: 0.9152\n",
            "Epoch 41/50\n",
            "19/19 [==============================] - 0s 5ms/step - loss: 0.4721 - accuracy: 0.9234 - val_loss: 0.4813 - val_accuracy: 0.9152\n",
            "Epoch 42/50\n",
            "19/19 [==============================] - 0s 4ms/step - loss: 0.4957 - accuracy: 0.9057 - val_loss: 0.4763 - val_accuracy: 0.9187\n",
            "Epoch 43/50\n",
            "19/19 [==============================] - 0s 4ms/step - loss: 0.4883 - accuracy: 0.9061 - val_loss: 0.4722 - val_accuracy: 0.9170\n",
            "Epoch 44/50\n",
            "19/19 [==============================] - 0s 5ms/step - loss: 0.4647 - accuracy: 0.9212 - val_loss: 0.4666 - val_accuracy: 0.9170\n",
            "Epoch 45/50\n",
            "19/19 [==============================] - 0s 5ms/step - loss: 0.4906 - accuracy: 0.9076 - val_loss: 0.4619 - val_accuracy: 0.9118\n",
            "Epoch 46/50\n",
            "19/19 [==============================] - 0s 5ms/step - loss: 0.4885 - accuracy: 0.9092 - val_loss: 0.4572 - val_accuracy: 0.9187\n",
            "Epoch 47/50\n",
            "19/19 [==============================] - 0s 5ms/step - loss: 0.4801 - accuracy: 0.9152 - val_loss: 0.4530 - val_accuracy: 0.9187\n",
            "Epoch 48/50\n",
            "19/19 [==============================] - 0s 5ms/step - loss: 0.4545 - accuracy: 0.9201 - val_loss: 0.4485 - val_accuracy: 0.9170\n",
            "Epoch 49/50\n",
            "19/19 [==============================] - 0s 5ms/step - loss: 0.4265 - accuracy: 0.9129 - val_loss: 0.4443 - val_accuracy: 0.9152\n",
            "Epoch 50/50\n",
            "19/19 [==============================] - 0s 5ms/step - loss: 0.4160 - accuracy: 0.9218 - val_loss: 0.4402 - val_accuracy: 0.9135\n",
            "\n",
            "Trained for 0.08576639493306477 minutes \n"
          ],
          "name": "stdout"
        }
      ]
    },
    {
      "cell_type": "code",
      "metadata": {
        "colab": {
          "base_uri": "https://localhost:8080/"
        },
        "id": "SLKOUJmnn6OX",
        "outputId": "a85b2637-232b-45e0-8acc-17f97a472871"
      },
      "source": [
        "class_model.summary()"
      ],
      "execution_count": null,
      "outputs": [
        {
          "output_type": "stream",
          "text": [
            "Model: \"class_model\"\n",
            "_________________________________________________________________\n",
            "Layer (type)                 Output Shape              Param #   \n",
            "=================================================================\n",
            "predictions (Dense)          (None, 4)                 2052      \n",
            "=================================================================\n",
            "Total params: 2,052\n",
            "Trainable params: 2,052\n",
            "Non-trainable params: 0\n",
            "_________________________________________________________________\n"
          ],
          "name": "stdout"
        }
      ]
    },
    {
      "cell_type": "markdown",
      "metadata": {
        "id": "ALV8DDU1n6OY"
      },
      "source": [
        "# Evaluation"
      ]
    },
    {
      "cell_type": "code",
      "metadata": {
        "colab": {
          "base_uri": "https://localhost:8080/"
        },
        "id": "W2Yg_N9vn6OZ",
        "outputId": "716d4ff9-a194-470c-a7a4-6aec45ce195a"
      },
      "source": [
        "from sklearn.metrics import classification_report\n",
        "\n",
        "y_pred = class_model.predict(test_results)\n",
        "# calculate classification accuracy\n",
        "report = classification_report(y_test, np.argmax(y_pred, axis=1), target_names=class_names, digits=4)\n",
        "print(report)"
      ],
      "execution_count": null,
      "outputs": [
        {
          "output_type": "stream",
          "text": [
            "              precision    recall  f1-score   support\n",
            "\n",
            "       Shoes     0.9739    0.9933    0.9835       150\n",
            "     Sandals     0.8509    0.9133    0.8810       150\n",
            "       Boots     0.9114    0.9600    0.9351       150\n",
            "    Slippers     0.9065    0.7519    0.8220       129\n",
            "\n",
            "    accuracy                         0.9102       579\n",
            "   macro avg     0.9107    0.9047    0.9054       579\n",
            "weighted avg     0.9108    0.9102    0.9084       579\n",
            "\n"
          ],
          "name": "stdout"
        }
      ]
    },
    {
      "cell_type": "markdown",
      "metadata": {
        "id": "2AJRNUj2lePZ"
      },
      "source": [
        "# TRANSFER LEARNING + SIAMESE NETWORK\n"
      ]
    },
    {
      "cell_type": "code",
      "metadata": {
        "id": "l6PoLannIiRB",
        "colab": {
          "base_uri": "https://localhost:8080/"
        },
        "outputId": "8e87cb98-39f7-4258-8e9b-00bccc63a9dc"
      },
      "source": [
        "base_cnn = xception.Xception(weights=\"imagenet\", input_shape=image_size+(3,), include_top=False)\n",
        "\n",
        "g_a_b = tf.keras.layers.GlobalAveragePooling2D()(base_cnn.output)\n",
        "dense1 = tf.keras.layers.Dense(1024, activation=\"relu\")(g_a_b)\n",
        "dense1 = tf.keras.layers.BatchNormalization()(dense1)\n",
        "embeddings = tf.keras.layers.Dense(512)(dense1)\n",
        "\n",
        "distance = tf.keras.layers.Lambda(lambda x: tf.math.l2_normalize(x, axis=1))(embeddings) # L2 normalize embeddings\n",
        "\n",
        "siamese_model = tf.keras.models.Model(inputs = base_cnn.input, outputs = distance, name=\"distance\")\n",
        "\n",
        "for layer in base_cnn.layers:\n",
        "    layer.trainable = False"
      ],
      "execution_count": null,
      "outputs": [
        {
          "output_type": "stream",
          "text": [
            "Downloading data from https://storage.googleapis.com/tensorflow/keras-applications/xception/xception_weights_tf_dim_ordering_tf_kernels_notop.h5\n",
            "83689472/83683744 [==============================] - 0s 0us/step\n"
          ],
          "name": "stdout"
        }
      ]
    },
    {
      "cell_type": "code",
      "metadata": {
        "colab": {
          "base_uri": "https://localhost:8080/"
        },
        "id": "r848Gh6rIt-e",
        "outputId": "81e446d9-0424-4ac6-a49d-26e36edeb8d7"
      },
      "source": [
        "siamese_model.summary()"
      ],
      "execution_count": null,
      "outputs": [
        {
          "output_type": "stream",
          "text": [
            "Model: \"distance\"\n",
            "__________________________________________________________________________________________________\n",
            "Layer (type)                    Output Shape         Param #     Connected to                     \n",
            "==================================================================================================\n",
            "input_2 (InputLayer)            [(None, 102, 136, 3) 0                                            \n",
            "__________________________________________________________________________________________________\n",
            "block1_conv1 (Conv2D)           (None, 50, 67, 32)   864         input_2[0][0]                    \n",
            "__________________________________________________________________________________________________\n",
            "block1_conv1_bn (BatchNormaliza (None, 50, 67, 32)   128         block1_conv1[0][0]               \n",
            "__________________________________________________________________________________________________\n",
            "block1_conv1_act (Activation)   (None, 50, 67, 32)   0           block1_conv1_bn[0][0]            \n",
            "__________________________________________________________________________________________________\n",
            "block1_conv2 (Conv2D)           (None, 48, 65, 64)   18432       block1_conv1_act[0][0]           \n",
            "__________________________________________________________________________________________________\n",
            "block1_conv2_bn (BatchNormaliza (None, 48, 65, 64)   256         block1_conv2[0][0]               \n",
            "__________________________________________________________________________________________________\n",
            "block1_conv2_act (Activation)   (None, 48, 65, 64)   0           block1_conv2_bn[0][0]            \n",
            "__________________________________________________________________________________________________\n",
            "block2_sepconv1 (SeparableConv2 (None, 48, 65, 128)  8768        block1_conv2_act[0][0]           \n",
            "__________________________________________________________________________________________________\n",
            "block2_sepconv1_bn (BatchNormal (None, 48, 65, 128)  512         block2_sepconv1[0][0]            \n",
            "__________________________________________________________________________________________________\n",
            "block2_sepconv2_act (Activation (None, 48, 65, 128)  0           block2_sepconv1_bn[0][0]         \n",
            "__________________________________________________________________________________________________\n",
            "block2_sepconv2 (SeparableConv2 (None, 48, 65, 128)  17536       block2_sepconv2_act[0][0]        \n",
            "__________________________________________________________________________________________________\n",
            "block2_sepconv2_bn (BatchNormal (None, 48, 65, 128)  512         block2_sepconv2[0][0]            \n",
            "__________________________________________________________________________________________________\n",
            "conv2d_2 (Conv2D)               (None, 24, 33, 128)  8192        block1_conv2_act[0][0]           \n",
            "__________________________________________________________________________________________________\n",
            "block2_pool (MaxPooling2D)      (None, 24, 33, 128)  0           block2_sepconv2_bn[0][0]         \n",
            "__________________________________________________________________________________________________\n",
            "batch_normalization (BatchNorma (None, 24, 33, 128)  512         conv2d_2[0][0]                   \n",
            "__________________________________________________________________________________________________\n",
            "add (Add)                       (None, 24, 33, 128)  0           block2_pool[0][0]                \n",
            "                                                                 batch_normalization[0][0]        \n",
            "__________________________________________________________________________________________________\n",
            "block3_sepconv1_act (Activation (None, 24, 33, 128)  0           add[0][0]                        \n",
            "__________________________________________________________________________________________________\n",
            "block3_sepconv1 (SeparableConv2 (None, 24, 33, 256)  33920       block3_sepconv1_act[0][0]        \n",
            "__________________________________________________________________________________________________\n",
            "block3_sepconv1_bn (BatchNormal (None, 24, 33, 256)  1024        block3_sepconv1[0][0]            \n",
            "__________________________________________________________________________________________________\n",
            "block3_sepconv2_act (Activation (None, 24, 33, 256)  0           block3_sepconv1_bn[0][0]         \n",
            "__________________________________________________________________________________________________\n",
            "block3_sepconv2 (SeparableConv2 (None, 24, 33, 256)  67840       block3_sepconv2_act[0][0]        \n",
            "__________________________________________________________________________________________________\n",
            "block3_sepconv2_bn (BatchNormal (None, 24, 33, 256)  1024        block3_sepconv2[0][0]            \n",
            "__________________________________________________________________________________________________\n",
            "conv2d_3 (Conv2D)               (None, 12, 17, 256)  32768       add[0][0]                        \n",
            "__________________________________________________________________________________________________\n",
            "block3_pool (MaxPooling2D)      (None, 12, 17, 256)  0           block3_sepconv2_bn[0][0]         \n",
            "__________________________________________________________________________________________________\n",
            "batch_normalization_1 (BatchNor (None, 12, 17, 256)  1024        conv2d_3[0][0]                   \n",
            "__________________________________________________________________________________________________\n",
            "add_1 (Add)                     (None, 12, 17, 256)  0           block3_pool[0][0]                \n",
            "                                                                 batch_normalization_1[0][0]      \n",
            "__________________________________________________________________________________________________\n",
            "block4_sepconv1_act (Activation (None, 12, 17, 256)  0           add_1[0][0]                      \n",
            "__________________________________________________________________________________________________\n",
            "block4_sepconv1 (SeparableConv2 (None, 12, 17, 728)  188672      block4_sepconv1_act[0][0]        \n",
            "__________________________________________________________________________________________________\n",
            "block4_sepconv1_bn (BatchNormal (None, 12, 17, 728)  2912        block4_sepconv1[0][0]            \n",
            "__________________________________________________________________________________________________\n",
            "block4_sepconv2_act (Activation (None, 12, 17, 728)  0           block4_sepconv1_bn[0][0]         \n",
            "__________________________________________________________________________________________________\n",
            "block4_sepconv2 (SeparableConv2 (None, 12, 17, 728)  536536      block4_sepconv2_act[0][0]        \n",
            "__________________________________________________________________________________________________\n",
            "block4_sepconv2_bn (BatchNormal (None, 12, 17, 728)  2912        block4_sepconv2[0][0]            \n",
            "__________________________________________________________________________________________________\n",
            "conv2d_4 (Conv2D)               (None, 6, 9, 728)    186368      add_1[0][0]                      \n",
            "__________________________________________________________________________________________________\n",
            "block4_pool (MaxPooling2D)      (None, 6, 9, 728)    0           block4_sepconv2_bn[0][0]         \n",
            "__________________________________________________________________________________________________\n",
            "batch_normalization_2 (BatchNor (None, 6, 9, 728)    2912        conv2d_4[0][0]                   \n",
            "__________________________________________________________________________________________________\n",
            "add_2 (Add)                     (None, 6, 9, 728)    0           block4_pool[0][0]                \n",
            "                                                                 batch_normalization_2[0][0]      \n",
            "__________________________________________________________________________________________________\n",
            "block5_sepconv1_act (Activation (None, 6, 9, 728)    0           add_2[0][0]                      \n",
            "__________________________________________________________________________________________________\n",
            "block5_sepconv1 (SeparableConv2 (None, 6, 9, 728)    536536      block5_sepconv1_act[0][0]        \n",
            "__________________________________________________________________________________________________\n",
            "block5_sepconv1_bn (BatchNormal (None, 6, 9, 728)    2912        block5_sepconv1[0][0]            \n",
            "__________________________________________________________________________________________________\n",
            "block5_sepconv2_act (Activation (None, 6, 9, 728)    0           block5_sepconv1_bn[0][0]         \n",
            "__________________________________________________________________________________________________\n",
            "block5_sepconv2 (SeparableConv2 (None, 6, 9, 728)    536536      block5_sepconv2_act[0][0]        \n",
            "__________________________________________________________________________________________________\n",
            "block5_sepconv2_bn (BatchNormal (None, 6, 9, 728)    2912        block5_sepconv2[0][0]            \n",
            "__________________________________________________________________________________________________\n",
            "block5_sepconv3_act (Activation (None, 6, 9, 728)    0           block5_sepconv2_bn[0][0]         \n",
            "__________________________________________________________________________________________________\n",
            "block5_sepconv3 (SeparableConv2 (None, 6, 9, 728)    536536      block5_sepconv3_act[0][0]        \n",
            "__________________________________________________________________________________________________\n",
            "block5_sepconv3_bn (BatchNormal (None, 6, 9, 728)    2912        block5_sepconv3[0][0]            \n",
            "__________________________________________________________________________________________________\n",
            "add_3 (Add)                     (None, 6, 9, 728)    0           block5_sepconv3_bn[0][0]         \n",
            "                                                                 add_2[0][0]                      \n",
            "__________________________________________________________________________________________________\n",
            "block6_sepconv1_act (Activation (None, 6, 9, 728)    0           add_3[0][0]                      \n",
            "__________________________________________________________________________________________________\n",
            "block6_sepconv1 (SeparableConv2 (None, 6, 9, 728)    536536      block6_sepconv1_act[0][0]        \n",
            "__________________________________________________________________________________________________\n",
            "block6_sepconv1_bn (BatchNormal (None, 6, 9, 728)    2912        block6_sepconv1[0][0]            \n",
            "__________________________________________________________________________________________________\n",
            "block6_sepconv2_act (Activation (None, 6, 9, 728)    0           block6_sepconv1_bn[0][0]         \n",
            "__________________________________________________________________________________________________\n",
            "block6_sepconv2 (SeparableConv2 (None, 6, 9, 728)    536536      block6_sepconv2_act[0][0]        \n",
            "__________________________________________________________________________________________________\n",
            "block6_sepconv2_bn (BatchNormal (None, 6, 9, 728)    2912        block6_sepconv2[0][0]            \n",
            "__________________________________________________________________________________________________\n",
            "block6_sepconv3_act (Activation (None, 6, 9, 728)    0           block6_sepconv2_bn[0][0]         \n",
            "__________________________________________________________________________________________________\n",
            "block6_sepconv3 (SeparableConv2 (None, 6, 9, 728)    536536      block6_sepconv3_act[0][0]        \n",
            "__________________________________________________________________________________________________\n",
            "block6_sepconv3_bn (BatchNormal (None, 6, 9, 728)    2912        block6_sepconv3[0][0]            \n",
            "__________________________________________________________________________________________________\n",
            "add_4 (Add)                     (None, 6, 9, 728)    0           block6_sepconv3_bn[0][0]         \n",
            "                                                                 add_3[0][0]                      \n",
            "__________________________________________________________________________________________________\n",
            "block7_sepconv1_act (Activation (None, 6, 9, 728)    0           add_4[0][0]                      \n",
            "__________________________________________________________________________________________________\n",
            "block7_sepconv1 (SeparableConv2 (None, 6, 9, 728)    536536      block7_sepconv1_act[0][0]        \n",
            "__________________________________________________________________________________________________\n",
            "block7_sepconv1_bn (BatchNormal (None, 6, 9, 728)    2912        block7_sepconv1[0][0]            \n",
            "__________________________________________________________________________________________________\n",
            "block7_sepconv2_act (Activation (None, 6, 9, 728)    0           block7_sepconv1_bn[0][0]         \n",
            "__________________________________________________________________________________________________\n",
            "block7_sepconv2 (SeparableConv2 (None, 6, 9, 728)    536536      block7_sepconv2_act[0][0]        \n",
            "__________________________________________________________________________________________________\n",
            "block7_sepconv2_bn (BatchNormal (None, 6, 9, 728)    2912        block7_sepconv2[0][0]            \n",
            "__________________________________________________________________________________________________\n",
            "block7_sepconv3_act (Activation (None, 6, 9, 728)    0           block7_sepconv2_bn[0][0]         \n",
            "__________________________________________________________________________________________________\n",
            "block7_sepconv3 (SeparableConv2 (None, 6, 9, 728)    536536      block7_sepconv3_act[0][0]        \n",
            "__________________________________________________________________________________________________\n",
            "block7_sepconv3_bn (BatchNormal (None, 6, 9, 728)    2912        block7_sepconv3[0][0]            \n",
            "__________________________________________________________________________________________________\n",
            "add_5 (Add)                     (None, 6, 9, 728)    0           block7_sepconv3_bn[0][0]         \n",
            "                                                                 add_4[0][0]                      \n",
            "__________________________________________________________________________________________________\n",
            "block8_sepconv1_act (Activation (None, 6, 9, 728)    0           add_5[0][0]                      \n",
            "__________________________________________________________________________________________________\n",
            "block8_sepconv1 (SeparableConv2 (None, 6, 9, 728)    536536      block8_sepconv1_act[0][0]        \n",
            "__________________________________________________________________________________________________\n",
            "block8_sepconv1_bn (BatchNormal (None, 6, 9, 728)    2912        block8_sepconv1[0][0]            \n",
            "__________________________________________________________________________________________________\n",
            "block8_sepconv2_act (Activation (None, 6, 9, 728)    0           block8_sepconv1_bn[0][0]         \n",
            "__________________________________________________________________________________________________\n",
            "block8_sepconv2 (SeparableConv2 (None, 6, 9, 728)    536536      block8_sepconv2_act[0][0]        \n",
            "__________________________________________________________________________________________________\n",
            "block8_sepconv2_bn (BatchNormal (None, 6, 9, 728)    2912        block8_sepconv2[0][0]            \n",
            "__________________________________________________________________________________________________\n",
            "block8_sepconv3_act (Activation (None, 6, 9, 728)    0           block8_sepconv2_bn[0][0]         \n",
            "__________________________________________________________________________________________________\n",
            "block8_sepconv3 (SeparableConv2 (None, 6, 9, 728)    536536      block8_sepconv3_act[0][0]        \n",
            "__________________________________________________________________________________________________\n",
            "block8_sepconv3_bn (BatchNormal (None, 6, 9, 728)    2912        block8_sepconv3[0][0]            \n",
            "__________________________________________________________________________________________________\n",
            "add_6 (Add)                     (None, 6, 9, 728)    0           block8_sepconv3_bn[0][0]         \n",
            "                                                                 add_5[0][0]                      \n",
            "__________________________________________________________________________________________________\n",
            "block9_sepconv1_act (Activation (None, 6, 9, 728)    0           add_6[0][0]                      \n",
            "__________________________________________________________________________________________________\n",
            "block9_sepconv1 (SeparableConv2 (None, 6, 9, 728)    536536      block9_sepconv1_act[0][0]        \n",
            "__________________________________________________________________________________________________\n",
            "block9_sepconv1_bn (BatchNormal (None, 6, 9, 728)    2912        block9_sepconv1[0][0]            \n",
            "__________________________________________________________________________________________________\n",
            "block9_sepconv2_act (Activation (None, 6, 9, 728)    0           block9_sepconv1_bn[0][0]         \n",
            "__________________________________________________________________________________________________\n",
            "block9_sepconv2 (SeparableConv2 (None, 6, 9, 728)    536536      block9_sepconv2_act[0][0]        \n",
            "__________________________________________________________________________________________________\n",
            "block9_sepconv2_bn (BatchNormal (None, 6, 9, 728)    2912        block9_sepconv2[0][0]            \n",
            "__________________________________________________________________________________________________\n",
            "block9_sepconv3_act (Activation (None, 6, 9, 728)    0           block9_sepconv2_bn[0][0]         \n",
            "__________________________________________________________________________________________________\n",
            "block9_sepconv3 (SeparableConv2 (None, 6, 9, 728)    536536      block9_sepconv3_act[0][0]        \n",
            "__________________________________________________________________________________________________\n",
            "block9_sepconv3_bn (BatchNormal (None, 6, 9, 728)    2912        block9_sepconv3[0][0]            \n",
            "__________________________________________________________________________________________________\n",
            "add_7 (Add)                     (None, 6, 9, 728)    0           block9_sepconv3_bn[0][0]         \n",
            "                                                                 add_6[0][0]                      \n",
            "__________________________________________________________________________________________________\n",
            "block10_sepconv1_act (Activatio (None, 6, 9, 728)    0           add_7[0][0]                      \n",
            "__________________________________________________________________________________________________\n",
            "block10_sepconv1 (SeparableConv (None, 6, 9, 728)    536536      block10_sepconv1_act[0][0]       \n",
            "__________________________________________________________________________________________________\n",
            "block10_sepconv1_bn (BatchNorma (None, 6, 9, 728)    2912        block10_sepconv1[0][0]           \n",
            "__________________________________________________________________________________________________\n",
            "block10_sepconv2_act (Activatio (None, 6, 9, 728)    0           block10_sepconv1_bn[0][0]        \n",
            "__________________________________________________________________________________________________\n",
            "block10_sepconv2 (SeparableConv (None, 6, 9, 728)    536536      block10_sepconv2_act[0][0]       \n",
            "__________________________________________________________________________________________________\n",
            "block10_sepconv2_bn (BatchNorma (None, 6, 9, 728)    2912        block10_sepconv2[0][0]           \n",
            "__________________________________________________________________________________________________\n",
            "block10_sepconv3_act (Activatio (None, 6, 9, 728)    0           block10_sepconv2_bn[0][0]        \n",
            "__________________________________________________________________________________________________\n",
            "block10_sepconv3 (SeparableConv (None, 6, 9, 728)    536536      block10_sepconv3_act[0][0]       \n",
            "__________________________________________________________________________________________________\n",
            "block10_sepconv3_bn (BatchNorma (None, 6, 9, 728)    2912        block10_sepconv3[0][0]           \n",
            "__________________________________________________________________________________________________\n",
            "add_8 (Add)                     (None, 6, 9, 728)    0           block10_sepconv3_bn[0][0]        \n",
            "                                                                 add_7[0][0]                      \n",
            "__________________________________________________________________________________________________\n",
            "block11_sepconv1_act (Activatio (None, 6, 9, 728)    0           add_8[0][0]                      \n",
            "__________________________________________________________________________________________________\n",
            "block11_sepconv1 (SeparableConv (None, 6, 9, 728)    536536      block11_sepconv1_act[0][0]       \n",
            "__________________________________________________________________________________________________\n",
            "block11_sepconv1_bn (BatchNorma (None, 6, 9, 728)    2912        block11_sepconv1[0][0]           \n",
            "__________________________________________________________________________________________________\n",
            "block11_sepconv2_act (Activatio (None, 6, 9, 728)    0           block11_sepconv1_bn[0][0]        \n",
            "__________________________________________________________________________________________________\n",
            "block11_sepconv2 (SeparableConv (None, 6, 9, 728)    536536      block11_sepconv2_act[0][0]       \n",
            "__________________________________________________________________________________________________\n",
            "block11_sepconv2_bn (BatchNorma (None, 6, 9, 728)    2912        block11_sepconv2[0][0]           \n",
            "__________________________________________________________________________________________________\n",
            "block11_sepconv3_act (Activatio (None, 6, 9, 728)    0           block11_sepconv2_bn[0][0]        \n",
            "__________________________________________________________________________________________________\n",
            "block11_sepconv3 (SeparableConv (None, 6, 9, 728)    536536      block11_sepconv3_act[0][0]       \n",
            "__________________________________________________________________________________________________\n",
            "block11_sepconv3_bn (BatchNorma (None, 6, 9, 728)    2912        block11_sepconv3[0][0]           \n",
            "__________________________________________________________________________________________________\n",
            "add_9 (Add)                     (None, 6, 9, 728)    0           block11_sepconv3_bn[0][0]        \n",
            "                                                                 add_8[0][0]                      \n",
            "__________________________________________________________________________________________________\n",
            "block12_sepconv1_act (Activatio (None, 6, 9, 728)    0           add_9[0][0]                      \n",
            "__________________________________________________________________________________________________\n",
            "block12_sepconv1 (SeparableConv (None, 6, 9, 728)    536536      block12_sepconv1_act[0][0]       \n",
            "__________________________________________________________________________________________________\n",
            "block12_sepconv1_bn (BatchNorma (None, 6, 9, 728)    2912        block12_sepconv1[0][0]           \n",
            "__________________________________________________________________________________________________\n",
            "block12_sepconv2_act (Activatio (None, 6, 9, 728)    0           block12_sepconv1_bn[0][0]        \n",
            "__________________________________________________________________________________________________\n",
            "block12_sepconv2 (SeparableConv (None, 6, 9, 728)    536536      block12_sepconv2_act[0][0]       \n",
            "__________________________________________________________________________________________________\n",
            "block12_sepconv2_bn (BatchNorma (None, 6, 9, 728)    2912        block12_sepconv2[0][0]           \n",
            "__________________________________________________________________________________________________\n",
            "block12_sepconv3_act (Activatio (None, 6, 9, 728)    0           block12_sepconv2_bn[0][0]        \n",
            "__________________________________________________________________________________________________\n",
            "block12_sepconv3 (SeparableConv (None, 6, 9, 728)    536536      block12_sepconv3_act[0][0]       \n",
            "__________________________________________________________________________________________________\n",
            "block12_sepconv3_bn (BatchNorma (None, 6, 9, 728)    2912        block12_sepconv3[0][0]           \n",
            "__________________________________________________________________________________________________\n",
            "add_10 (Add)                    (None, 6, 9, 728)    0           block12_sepconv3_bn[0][0]        \n",
            "                                                                 add_9[0][0]                      \n",
            "__________________________________________________________________________________________________\n",
            "block13_sepconv1_act (Activatio (None, 6, 9, 728)    0           add_10[0][0]                     \n",
            "__________________________________________________________________________________________________\n",
            "block13_sepconv1 (SeparableConv (None, 6, 9, 728)    536536      block13_sepconv1_act[0][0]       \n",
            "__________________________________________________________________________________________________\n",
            "block13_sepconv1_bn (BatchNorma (None, 6, 9, 728)    2912        block13_sepconv1[0][0]           \n",
            "__________________________________________________________________________________________________\n",
            "block13_sepconv2_act (Activatio (None, 6, 9, 728)    0           block13_sepconv1_bn[0][0]        \n",
            "__________________________________________________________________________________________________\n",
            "block13_sepconv2 (SeparableConv (None, 6, 9, 1024)   752024      block13_sepconv2_act[0][0]       \n",
            "__________________________________________________________________________________________________\n",
            "block13_sepconv2_bn (BatchNorma (None, 6, 9, 1024)   4096        block13_sepconv2[0][0]           \n",
            "__________________________________________________________________________________________________\n",
            "conv2d_5 (Conv2D)               (None, 3, 5, 1024)   745472      add_10[0][0]                     \n",
            "__________________________________________________________________________________________________\n",
            "block13_pool (MaxPooling2D)     (None, 3, 5, 1024)   0           block13_sepconv2_bn[0][0]        \n",
            "__________________________________________________________________________________________________\n",
            "batch_normalization_3 (BatchNor (None, 3, 5, 1024)   4096        conv2d_5[0][0]                   \n",
            "__________________________________________________________________________________________________\n",
            "add_11 (Add)                    (None, 3, 5, 1024)   0           block13_pool[0][0]               \n",
            "                                                                 batch_normalization_3[0][0]      \n",
            "__________________________________________________________________________________________________\n",
            "block14_sepconv1 (SeparableConv (None, 3, 5, 1536)   1582080     add_11[0][0]                     \n",
            "__________________________________________________________________________________________________\n",
            "block14_sepconv1_bn (BatchNorma (None, 3, 5, 1536)   6144        block14_sepconv1[0][0]           \n",
            "__________________________________________________________________________________________________\n",
            "block14_sepconv1_act (Activatio (None, 3, 5, 1536)   0           block14_sepconv1_bn[0][0]        \n",
            "__________________________________________________________________________________________________\n",
            "block14_sepconv2 (SeparableConv (None, 3, 5, 2048)   3159552     block14_sepconv1_act[0][0]       \n",
            "__________________________________________________________________________________________________\n",
            "block14_sepconv2_bn (BatchNorma (None, 3, 5, 2048)   8192        block14_sepconv2[0][0]           \n",
            "__________________________________________________________________________________________________\n",
            "block14_sepconv2_act (Activatio (None, 3, 5, 2048)   0           block14_sepconv2_bn[0][0]        \n",
            "__________________________________________________________________________________________________\n",
            "global_average_pooling2d (Globa (None, 2048)         0           block14_sepconv2_act[0][0]       \n",
            "__________________________________________________________________________________________________\n",
            "dense_1 (Dense)                 (None, 1024)         2098176     global_average_pooling2d[0][0]   \n",
            "__________________________________________________________________________________________________\n",
            "batch_normalization_4 (BatchNor (None, 1024)         4096        dense_1[0][0]                    \n",
            "__________________________________________________________________________________________________\n",
            "dense_2 (Dense)                 (None, 512)          524800      batch_normalization_4[0][0]      \n",
            "__________________________________________________________________________________________________\n",
            "lambda_1 (Lambda)               (None, 512)          0           dense_2[0][0]                    \n",
            "==================================================================================================\n",
            "Total params: 23,488,552\n",
            "Trainable params: 2,625,024\n",
            "Non-trainable params: 20,863,528\n",
            "__________________________________________________________________________________________________\n"
          ],
          "name": "stdout"
        }
      ]
    },
    {
      "cell_type": "markdown",
      "metadata": {
        "id": "TCA4trBtlyMt"
      },
      "source": [
        "# Train the model"
      ]
    },
    {
      "cell_type": "code",
      "metadata": {
        "id": "jB5e2xm7Ller"
      },
      "source": [
        "# Compile the model\n",
        "siamese_model.compile(\n",
        "    optimizer=tf.keras.optimizers.Adam(0.001),\n",
        "    loss=tfa.losses.TripletHardLoss())\n"
      ],
      "execution_count": null,
      "outputs": []
    },
    {
      "cell_type": "code",
      "metadata": {
        "colab": {
          "base_uri": "https://localhost:8080/"
        },
        "id": "z3YjwGrpMW50",
        "outputId": "888dc6e2-7942-4b5e-89dd-3b10aea6a5bf"
      },
      "source": [
        "import time\n",
        "start_time = time.time()\n",
        "\n",
        "# Train the network\n",
        "history = siamese_model.fit(\n",
        "    train_ds1,\n",
        "    epochs=10,\n",
        "    validation_data=(val_ds1), \n",
        "    # callbacks=[tbCallBack])\n",
        ")\n",
        "\n",
        "print(f\"\\nTrained for {(time.time() - start_time) / 60} minutes \")"
      ],
      "execution_count": null,
      "outputs": [
        {
          "output_type": "stream",
          "text": [
            "Epoch 1/10\n",
            "290/290 [==============================] - 44s 29ms/step - loss: 0.7151 - val_loss: 0.5862\n",
            "Epoch 2/10\n",
            "290/290 [==============================] - 7s 25ms/step - loss: 0.3756 - val_loss: 0.5626\n",
            "Epoch 3/10\n",
            "290/290 [==============================] - 7s 25ms/step - loss: 0.2802 - val_loss: 0.5965\n",
            "Epoch 4/10\n",
            "290/290 [==============================] - 7s 26ms/step - loss: 0.2081 - val_loss: 0.4407\n",
            "Epoch 5/10\n",
            "290/290 [==============================] - 7s 26ms/step - loss: 0.1682 - val_loss: 0.4343\n",
            "Epoch 6/10\n",
            "290/290 [==============================] - 7s 26ms/step - loss: 0.1372 - val_loss: 0.4345\n",
            "Epoch 7/10\n",
            "290/290 [==============================] - 7s 26ms/step - loss: 0.1095 - val_loss: 0.4282\n",
            "Epoch 8/10\n",
            "290/290 [==============================] - 7s 26ms/step - loss: 0.0889 - val_loss: 0.4180\n",
            "Epoch 9/10\n",
            "290/290 [==============================] - 8s 26ms/step - loss: 0.0577 - val_loss: 0.4556\n",
            "Epoch 10/10\n",
            "290/290 [==============================] - 7s 26ms/step - loss: 0.0733 - val_loss: 0.4380\n",
            "\n",
            "Trained for 1.8549383878707886 minutes \n"
          ],
          "name": "stdout"
        }
      ]
    },
    {
      "cell_type": "code",
      "metadata": {
        "colab": {
          "base_uri": "https://localhost:8080/",
          "height": 425
        },
        "id": "AJAxDQawIi7p",
        "outputId": "7a4b0c32-b840-494b-d6f9-9084d285c66f"
      },
      "source": [
        "plt.style.use(\"ggplot\")\n",
        "plt.figure(figsize=(8, 6))\n",
        "plt.plot(history.history[\"loss\"], label=\"train_loss\")\n",
        "plt.plot(history.history[\"val_loss\"], label=\"val_loss\")\n",
        "plt.title(\"Training Loss\")\n",
        "plt.xlabel(\"Epoch #\")\n",
        "plt.ylabel(\"Loss\")\n",
        "plt.legend(loc=\"lower left\")"
      ],
      "execution_count": null,
      "outputs": [
        {
          "output_type": "execute_result",
          "data": {
            "text/plain": [
              "<matplotlib.legend.Legend at 0x7f3a513b8a10>"
            ]
          },
          "metadata": {
            "tags": []
          },
          "execution_count": 20
        },
        {
          "output_type": "display_data",
          "data": {
            "image/png": "[encoded data removed]",
            "text/plain": [
              "<Figure size 576x432 with 1 Axes>"
            ]
          },
          "metadata": {
            "tags": []
          }
        }
      ]
    },
    {
      "cell_type": "code",
      "metadata": {
        "colab": {
          "base_uri": "https://localhost:8080/",
          "height": 17
        },
        "id": "pF-JwlLbQW6W",
        "outputId": "8afcee02-e336-49cf-c7f0-75810c10a208"
      },
      "source": [
        "# Evaluate the network\n",
        "results = siamese_model.predict(test_ds1)\n",
        "\n",
        "# Save test embeddings for visualization in projector\n",
        "np.savetxt(\"vecs.tsv\", results, delimiter='\\t')\n",
        "\n",
        "out_m = io.open('meta.tsv', 'w', encoding='utf-8')\n",
        "for img, labels in tfds.as_numpy(test_ds1):\n",
        "    [out_m.write(str(x) + \"\\n\") for x in labels]\n",
        "out_m.close()\n",
        "\n",
        "\n",
        "try:\n",
        "  from google.colab import files\n",
        "  files.download('vecs.tsv')\n",
        "  files.download('meta.tsv')\n",
        "except:\n",
        "  pass"
      ],
      "execution_count": null,
      "outputs": [
        {
          "output_type": "display_data",
          "data": {
            "application/javascript": [
              "\n",
              "    async function download(id, filename, size) {\n",
              "      if (!google.colab.kernel.accessAllowed) {\n",
              "        return;\n",
              "      }\n",
              "      const div = document.createElement('div');\n",
              "      const label = document.createElement('label');\n",
              "      label.textContent = `Downloading \"${filename}\": `;\n",
              "      div.appendChild(label);\n",
              "      const progress = document.createElement('progress');\n",
              "      progress.max = size;\n",
              "      div.appendChild(progress);\n",
              "      document.body.appendChild(div);\n",
              "\n",
              "      const buffers = [];\n",
              "      let downloaded = 0;\n",
              "\n",
              "      const channel = await google.colab.kernel.comms.open(id);\n",
              "      // Send a message to notify the kernel that we're ready.\n",
              "      channel.send({})\n",
              "\n",
              "      for await (const message of channel.messages) {\n",
              "        // Send a message to notify the kernel that we're ready.\n",
              "        channel.send({})\n",
              "        if (message.buffers) {\n",
              "          for (const buffer of message.buffers) {\n",
              "            buffers.push(buffer);\n",
              "            downloaded += buffer.byteLength;\n",
              "            progress.value = downloaded;\n",
              "          }\n",
              "        }\n",
              "      }\n",
              "      const blob = new Blob(buffers, {type: 'application/binary'});\n",
              "      const a = document.createElement('a');\n",
              "      a.href = window.URL.createObjectURL(blob);\n",
              "      a.download = filename;\n",
              "      div.appendChild(a);\n",
              "      a.click();\n",
              "      div.remove();\n",
              "    }\n",
              "  "
            ],
            "text/plain": [
              "<IPython.core.display.Javascript object>"
            ]
          },
          "metadata": {
            "tags": []
          }
        },
        {
          "output_type": "display_data",
          "data": {
            "application/javascript": [
              "download(\"download_850210b4-0260-4430-b963-acae794db36d\", \"vecs.tsv\", 3779258)"
            ],
            "text/plain": [
              "<IPython.core.display.Javascript object>"
            ]
          },
          "metadata": {
            "tags": []
          }
        },
        {
          "output_type": "display_data",
          "data": {
            "application/javascript": [
              "\n",
              "    async function download(id, filename, size) {\n",
              "      if (!google.colab.kernel.accessAllowed) {\n",
              "        return;\n",
              "      }\n",
              "      const div = document.createElement('div');\n",
              "      const label = document.createElement('label');\n",
              "      label.textContent = `Downloading \"${filename}\": `;\n",
              "      div.appendChild(label);\n",
              "      const progress = document.createElement('progress');\n",
              "      progress.max = size;\n",
              "      div.appendChild(progress);\n",
              "      document.body.appendChild(div);\n",
              "\n",
              "      const buffers = [];\n",
              "      let downloaded = 0;\n",
              "\n",
              "      const channel = await google.colab.kernel.comms.open(id);\n",
              "      // Send a message to notify the kernel that we're ready.\n",
              "      channel.send({})\n",
              "\n",
              "      for await (const message of channel.messages) {\n",
              "        // Send a message to notify the kernel that we're ready.\n",
              "        channel.send({})\n",
              "        if (message.buffers) {\n",
              "          for (const buffer of message.buffers) {\n",
              "            buffers.push(buffer);\n",
              "            downloaded += buffer.byteLength;\n",
              "            progress.value = downloaded;\n",
              "          }\n",
              "        }\n",
              "      }\n",
              "      const blob = new Blob(buffers, {type: 'application/binary'});\n",
              "      const a = document.createElement('a');\n",
              "      a.href = window.URL.createObjectURL(blob);\n",
              "      a.download = filename;\n",
              "      div.appendChild(a);\n",
              "      a.click();\n",
              "      div.remove();\n",
              "    }\n",
              "  "
            ],
            "text/plain": [
              "<IPython.core.display.Javascript object>"
            ]
          },
          "metadata": {
            "tags": []
          }
        },
        {
          "output_type": "display_data",
          "data": {
            "application/javascript": [
              "download(\"download_63bfffaf-34db-4a29-bd2c-62a759cd5b8c\", \"meta.tsv\", 1158)"
            ],
            "text/plain": [
              "<IPython.core.display.Javascript object>"
            ]
          },
          "metadata": {
            "tags": []
          }
        }
      ]
    },
    {
      "cell_type": "markdown",
      "metadata": {
        "id": "1e9su31Nl283"
      },
      "source": [
        "# Feature extraction"
      ]
    },
    {
      "cell_type": "code",
      "metadata": {
        "id": "c6WqZ24vaJv6"
      },
      "source": [
        "train_results = siamese_model.predict(train_ds1)\n",
        "val_results = siamese_model.predict(val_ds1)\n",
        "test_results = siamese_model.predict(test_ds1)\n"
      ],
      "execution_count": null,
      "outputs": []
    },
    {
      "cell_type": "code",
      "metadata": {
        "colab": {
          "base_uri": "https://localhost:8080/"
        },
        "id": "cMRrzW7Sf-t6",
        "outputId": "173b2296-573e-4187-e38a-6d251922f8bf"
      },
      "source": [
        "y_train = np.concatenate([y for x, y in train_ds1], axis=0)\n",
        "y_test = np.concatenate([y for x, y in test_ds1], axis=0)\n",
        "y_val = np.concatenate([y for x, y in val_ds1], axis=0)\n",
        "y_train[0]"
      ],
      "execution_count": null,
      "outputs": [
        {
          "output_type": "execute_result",
          "data": {
            "text/plain": [
              "0"
            ]
          },
          "metadata": {
            "tags": []
          },
          "execution_count": 21
        }
      ]
    },
    {
      "cell_type": "markdown",
      "metadata": {
        "id": "GCEIKs49l9OF"
      },
      "source": [
        "# Single layer classifier"
      ]
    },
    {
      "cell_type": "code",
      "metadata": {
        "id": "aBCSKccGUNSt"
      },
      "source": [
        "class_model = tf.keras.Sequential(name=\"class_model\")\n",
        "# class_model.add(tf.keras.layers.Dense(128, activation='relu', name=\"dense_layer1\"))\n",
        "class_model.add(tf.keras.layers.Dense(4, activation='softmax', name=\"predictions\"))"
      ],
      "execution_count": null,
      "outputs": []
    },
    {
      "cell_type": "code",
      "metadata": {
        "id": "zqhPpiOKwJS1",
        "colab": {
          "base_uri": "https://localhost:8080/"
        },
        "outputId": "b0019059-b2f6-43c3-becb-bc3d2944055a"
      },
      "source": [
        "from tensorflow.keras.optimizers import SGD, Adam\n",
        "import time\n",
        "\n",
        "class_model.compile(optimizer=Adam(lr=0.001), \n",
        "                    loss=tf.keras.losses.SparseCategoricalCrossentropy(), \n",
        "                    metrics=[\"accuracy\"]\n",
        "                    )\n",
        "\n",
        "start_time = time.time()\n",
        "\n",
        "history = class_model.fit(x=val_results, y= y_val, \n",
        "                          epochs=50, \n",
        "                          validation_data=(val_results, y_val),\n",
        ")\n",
        "\n",
        "print(f\"\\nTrained for {(time.time() - start_time) / 60} minutes \")"
      ],
      "execution_count": null,
      "outputs": [
        {
          "output_type": "stream",
          "text": [
            "Epoch 1/50\n",
            "19/19 [==============================] - 0s 12ms/step - loss: 1.3368 - accuracy: 0.4772 - val_loss: 1.1115 - val_accuracy: 0.9273\n",
            "Epoch 2/50\n",
            "19/19 [==============================] - 0s 5ms/step - loss: 1.0455 - accuracy: 0.9329 - val_loss: 0.8739 - val_accuracy: 0.9446\n",
            "Epoch 3/50\n",
            "19/19 [==============================] - 0s 5ms/step - loss: 0.8268 - accuracy: 0.9482 - val_loss: 0.6935 - val_accuracy: 0.9429\n",
            "Epoch 4/50\n",
            "19/19 [==============================] - 0s 5ms/step - loss: 0.6468 - accuracy: 0.9491 - val_loss: 0.5601 - val_accuracy: 0.9464\n",
            "Epoch 5/50\n",
            "19/19 [==============================] - 0s 5ms/step - loss: 0.5387 - accuracy: 0.9384 - val_loss: 0.4667 - val_accuracy: 0.9481\n",
            "Epoch 6/50\n",
            "19/19 [==============================] - 0s 5ms/step - loss: 0.4504 - accuracy: 0.9488 - val_loss: 0.3983 - val_accuracy: 0.9481\n",
            "Epoch 7/50\n",
            "19/19 [==============================] - 0s 5ms/step - loss: 0.3841 - accuracy: 0.9530 - val_loss: 0.3491 - val_accuracy: 0.9481\n",
            "Epoch 8/50\n",
            "19/19 [==============================] - 0s 6ms/step - loss: 0.3258 - accuracy: 0.9551 - val_loss: 0.3124 - val_accuracy: 0.9481\n",
            "Epoch 9/50\n",
            "19/19 [==============================] - 0s 5ms/step - loss: 0.3183 - accuracy: 0.9431 - val_loss: 0.2852 - val_accuracy: 0.9481\n",
            "Epoch 10/50\n",
            "19/19 [==============================] - 0s 5ms/step - loss: 0.2638 - accuracy: 0.9579 - val_loss: 0.2641 - val_accuracy: 0.9481\n",
            "Epoch 11/50\n",
            "19/19 [==============================] - 0s 5ms/step - loss: 0.2611 - accuracy: 0.9489 - val_loss: 0.2479 - val_accuracy: 0.9481\n",
            "Epoch 12/50\n",
            "19/19 [==============================] - 0s 5ms/step - loss: 0.2500 - accuracy: 0.9448 - val_loss: 0.2348 - val_accuracy: 0.9481\n",
            "Epoch 13/50\n",
            "19/19 [==============================] - 0s 5ms/step - loss: 0.2179 - accuracy: 0.9538 - val_loss: 0.2241 - val_accuracy: 0.9498\n",
            "Epoch 14/50\n",
            "19/19 [==============================] - 0s 5ms/step - loss: 0.2320 - accuracy: 0.9485 - val_loss: 0.2158 - val_accuracy: 0.9498\n",
            "Epoch 15/50\n",
            "19/19 [==============================] - 0s 5ms/step - loss: 0.2142 - accuracy: 0.9482 - val_loss: 0.2086 - val_accuracy: 0.9516\n",
            "Epoch 16/50\n",
            "19/19 [==============================] - 0s 5ms/step - loss: 0.1990 - accuracy: 0.9565 - val_loss: 0.2027 - val_accuracy: 0.9533\n",
            "Epoch 17/50\n",
            "19/19 [==============================] - 0s 5ms/step - loss: 0.2117 - accuracy: 0.9524 - val_loss: 0.1976 - val_accuracy: 0.9533\n",
            "Epoch 18/50\n",
            "19/19 [==============================] - 0s 5ms/step - loss: 0.1676 - accuracy: 0.9649 - val_loss: 0.1933 - val_accuracy: 0.9533\n",
            "Epoch 19/50\n",
            "19/19 [==============================] - 0s 5ms/step - loss: 0.1671 - accuracy: 0.9673 - val_loss: 0.1895 - val_accuracy: 0.9533\n",
            "Epoch 20/50\n",
            "19/19 [==============================] - 0s 5ms/step - loss: 0.1654 - accuracy: 0.9651 - val_loss: 0.1864 - val_accuracy: 0.9533\n",
            "Epoch 21/50\n",
            "19/19 [==============================] - 0s 5ms/step - loss: 0.2009 - accuracy: 0.9496 - val_loss: 0.1837 - val_accuracy: 0.9533\n",
            "Epoch 22/50\n",
            "19/19 [==============================] - 0s 5ms/step - loss: 0.1723 - accuracy: 0.9591 - val_loss: 0.1824 - val_accuracy: 0.9533\n",
            "Epoch 23/50\n",
            "19/19 [==============================] - 0s 5ms/step - loss: 0.1651 - accuracy: 0.9623 - val_loss: 0.1802 - val_accuracy: 0.9550\n",
            "Epoch 24/50\n",
            "19/19 [==============================] - 0s 5ms/step - loss: 0.1786 - accuracy: 0.9554 - val_loss: 0.1782 - val_accuracy: 0.9533\n",
            "Epoch 25/50\n",
            "19/19 [==============================] - 0s 5ms/step - loss: 0.1534 - accuracy: 0.9625 - val_loss: 0.1763 - val_accuracy: 0.9533\n",
            "Epoch 26/50\n",
            "19/19 [==============================] - 0s 5ms/step - loss: 0.1885 - accuracy: 0.9522 - val_loss: 0.1747 - val_accuracy: 0.9533\n",
            "Epoch 27/50\n",
            "19/19 [==============================] - 0s 5ms/step - loss: 0.1688 - accuracy: 0.9610 - val_loss: 0.1733 - val_accuracy: 0.9533\n",
            "Epoch 28/50\n",
            "19/19 [==============================] - 0s 5ms/step - loss: 0.1801 - accuracy: 0.9550 - val_loss: 0.1720 - val_accuracy: 0.9533\n",
            "Epoch 29/50\n",
            "19/19 [==============================] - 0s 5ms/step - loss: 0.1789 - accuracy: 0.9527 - val_loss: 0.1708 - val_accuracy: 0.9533\n",
            "Epoch 30/50\n",
            "19/19 [==============================] - 0s 5ms/step - loss: 0.1487 - accuracy: 0.9614 - val_loss: 0.1697 - val_accuracy: 0.9533\n",
            "Epoch 31/50\n",
            "19/19 [==============================] - 0s 5ms/step - loss: 0.1907 - accuracy: 0.9429 - val_loss: 0.1695 - val_accuracy: 0.9550\n",
            "Epoch 32/50\n",
            "19/19 [==============================] - 0s 5ms/step - loss: 0.1570 - accuracy: 0.9599 - val_loss: 0.1686 - val_accuracy: 0.9550\n",
            "Epoch 33/50\n",
            "19/19 [==============================] - 0s 5ms/step - loss: 0.1683 - accuracy: 0.9547 - val_loss: 0.1677 - val_accuracy: 0.9550\n",
            "Epoch 34/50\n",
            "19/19 [==============================] - 0s 5ms/step - loss: 0.1521 - accuracy: 0.9604 - val_loss: 0.1668 - val_accuracy: 0.9550\n",
            "Epoch 35/50\n",
            "19/19 [==============================] - 0s 5ms/step - loss: 0.1645 - accuracy: 0.9497 - val_loss: 0.1661 - val_accuracy: 0.9550\n",
            "Epoch 36/50\n",
            "19/19 [==============================] - 0s 5ms/step - loss: 0.1721 - accuracy: 0.9530 - val_loss: 0.1653 - val_accuracy: 0.9550\n",
            "Epoch 37/50\n",
            "19/19 [==============================] - 0s 6ms/step - loss: 0.1907 - accuracy: 0.9438 - val_loss: 0.1647 - val_accuracy: 0.9550\n",
            "Epoch 38/50\n",
            "19/19 [==============================] - 0s 6ms/step - loss: 0.1441 - accuracy: 0.9571 - val_loss: 0.1641 - val_accuracy: 0.9550\n",
            "Epoch 39/50\n",
            "19/19 [==============================] - 0s 6ms/step - loss: 0.1403 - accuracy: 0.9649 - val_loss: 0.1635 - val_accuracy: 0.9550\n",
            "Epoch 40/50\n",
            "19/19 [==============================] - 0s 6ms/step - loss: 0.1906 - accuracy: 0.9437 - val_loss: 0.1630 - val_accuracy: 0.9550\n",
            "Epoch 41/50\n",
            "19/19 [==============================] - 0s 6ms/step - loss: 0.1787 - accuracy: 0.9517 - val_loss: 0.1626 - val_accuracy: 0.9550\n",
            "Epoch 42/50\n",
            "19/19 [==============================] - 0s 5ms/step - loss: 0.1376 - accuracy: 0.9590 - val_loss: 0.1620 - val_accuracy: 0.9550\n",
            "Epoch 43/50\n",
            "19/19 [==============================] - 0s 5ms/step - loss: 0.1523 - accuracy: 0.9596 - val_loss: 0.1616 - val_accuracy: 0.9550\n",
            "Epoch 44/50\n",
            "19/19 [==============================] - 0s 5ms/step - loss: 0.1349 - accuracy: 0.9634 - val_loss: 0.1612 - val_accuracy: 0.9550\n",
            "Epoch 45/50\n",
            "19/19 [==============================] - 0s 5ms/step - loss: 0.1415 - accuracy: 0.9637 - val_loss: 0.1608 - val_accuracy: 0.9550\n",
            "Epoch 46/50\n",
            "19/19 [==============================] - 0s 5ms/step - loss: 0.1634 - accuracy: 0.9568 - val_loss: 0.1605 - val_accuracy: 0.9550\n",
            "Epoch 47/50\n",
            "19/19 [==============================] - 0s 5ms/step - loss: 0.1760 - accuracy: 0.9443 - val_loss: 0.1601 - val_accuracy: 0.9550\n",
            "Epoch 48/50\n",
            "19/19 [==============================] - 0s 5ms/step - loss: 0.1433 - accuracy: 0.9639 - val_loss: 0.1598 - val_accuracy: 0.9550\n",
            "Epoch 49/50\n",
            "19/19 [==============================] - 0s 6ms/step - loss: 0.1377 - accuracy: 0.9629 - val_loss: 0.1595 - val_accuracy: 0.9550\n",
            "Epoch 50/50\n",
            "19/19 [==============================] - 0s 5ms/step - loss: 0.1860 - accuracy: 0.9455 - val_loss: 0.1592 - val_accuracy: 0.9550\n",
            "\n",
            "Trained for 0.09022306203842163 minutes \n"
          ],
          "name": "stdout"
        }
      ]
    },
    {
      "cell_type": "code",
      "metadata": {
        "colab": {
          "base_uri": "https://localhost:8080/"
        },
        "id": "LT9cNBXQrpXJ",
        "outputId": "8e0779f2-e65d-487f-f74b-a1022c136444"
      },
      "source": [
        "class_model.summary()"
      ],
      "execution_count": null,
      "outputs": [
        {
          "output_type": "stream",
          "text": [
            "Model: \"class_model\"\n",
            "_________________________________________________________________\n",
            "Layer (type)                 Output Shape              Param #   \n",
            "=================================================================\n",
            "predictions (Dense)          (None, 4)                 2052      \n",
            "=================================================================\n",
            "Total params: 2,052\n",
            "Trainable params: 2,052\n",
            "Non-trainable params: 0\n",
            "_________________________________________________________________\n"
          ],
          "name": "stdout"
        }
      ]
    },
    {
      "cell_type": "markdown",
      "metadata": {
        "id": "N5XRN02imLJh"
      },
      "source": [
        "# Evaluation"
      ]
    },
    {
      "cell_type": "code",
      "metadata": {
        "id": "qNYWy1mRlq0A",
        "colab": {
          "base_uri": "https://localhost:8080/"
        },
        "outputId": "e4e9b698-790d-4c69-d45c-d383e6741b7e"
      },
      "source": [
        "from sklearn.metrics import classification_report\n",
        "\n",
        "y_pred = class_model.predict(test_results)\n",
        "# calculate classification accuracy\n",
        "report = classification_report(y_test, np.argmax(y_pred, axis=1), target_names=class_names, digits=4)\n",
        "print(report)"
      ],
      "execution_count": null,
      "outputs": [
        {
          "output_type": "stream",
          "text": [
            "              precision    recall  f1-score   support\n",
            "\n",
            "       Shoes     0.9739    0.9933    0.9835       150\n",
            "     Sandals     0.9595    0.9467    0.9530       150\n",
            "       Boots     0.9610    0.9867    0.9737       150\n",
            "    Slippers     0.9355    0.8992    0.9170       129\n",
            "\n",
            "    accuracy                         0.9585       579\n",
            "   macro avg     0.9575    0.9565    0.9568       579\n",
            "weighted avg     0.9583    0.9585    0.9582       579\n",
            "\n"
          ],
          "name": "stdout"
        }
      ]
    },
    {
      "cell_type": "code",
      "metadata": {
        "id": "jhw9HH2XVk1y"
      },
      "source": [
        ""
      ],
      "execution_count": null,
      "outputs": []
    }
  ]
}